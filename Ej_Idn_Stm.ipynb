{
 "cells": [
  {
   "cell_type": "code",
   "execution_count": 1,
   "id": "e6f92a91",
   "metadata": {},
   "outputs": [],
   "source": [
    "#Importar pandas\n",
    "import pandas as pd \n",
    "import matplotlib.pyplot as plt \n",
    "import tbcontrol\n",
    "import control\n",
    "import numpy as np\n",
    "tbcontrol.expectversion(\"0.1.10\")\n",
    "%matplotlib inline\n",
    "import scipy.optimize\n",
    "from tbcontrol.responses import fopdt, sopdt\n",
    "from ipywidgets import interact\n"
   ]
  },
  {
   "cell_type": "markdown",
   "id": "9a1f02d4",
   "metadata": {},
   "source": [
    "# Ejercicio de identificación de sistemas"
   ]
  },
  {
   "cell_type": "markdown",
   "id": "a29c891b",
   "metadata": {},
   "source": [
    "# 1.\tExplore la tabla y describa su contenido.\n",
    "\n",
    "\n"
   ]
  },
  {
   "cell_type": "markdown",
   "id": "799fafd7",
   "metadata": {},
   "source": [
    "El contenido de la table son datos de el tiempo, temperatura y el step que es la señal de entrada"
   ]
  },
  {
   "cell_type": "markdown",
   "id": "4becedc1",
   "metadata": {},
   "source": [
    "# 2.\tUsando el módulo pandas, lea el contenido de la tabla.\n",
    "\n"
   ]
  },
  {
   "cell_type": "code",
   "execution_count": 2,
   "id": "63af3196",
   "metadata": {
    "scrolled": true
   },
   "outputs": [
    {
     "data": {
      "text/html": [
       "<div>\n",
       "<style scoped>\n",
       "    .dataframe tbody tr th:only-of-type {\n",
       "        vertical-align: middle;\n",
       "    }\n",
       "\n",
       "    .dataframe tbody tr th {\n",
       "        vertical-align: top;\n",
       "    }\n",
       "\n",
       "    .dataframe thead th {\n",
       "        text-align: right;\n",
       "    }\n",
       "</style>\n",
       "<table border=\"1\" class=\"dataframe\">\n",
       "  <thead>\n",
       "    <tr style=\"text-align: right;\">\n",
       "      <th></th>\n",
       "      <th>Tiempo</th>\n",
       "      <th>Entrada</th>\n",
       "      <th>Salida</th>\n",
       "    </tr>\n",
       "  </thead>\n",
       "  <tbody>\n",
       "    <tr>\n",
       "      <th>39</th>\n",
       "      <td>19.5</td>\n",
       "      <td>20</td>\n",
       "      <td>6.785451</td>\n",
       "    </tr>\n",
       "    <tr>\n",
       "      <th>40</th>\n",
       "      <td>20.0</td>\n",
       "      <td>80</td>\n",
       "      <td>6.755044</td>\n",
       "    </tr>\n",
       "    <tr>\n",
       "      <th>41</th>\n",
       "      <td>20.5</td>\n",
       "      <td>80</td>\n",
       "      <td>6.724637</td>\n",
       "    </tr>\n",
       "    <tr>\n",
       "      <th>42</th>\n",
       "      <td>21.0</td>\n",
       "      <td>80</td>\n",
       "      <td>7.552863</td>\n",
       "    </tr>\n",
       "    <tr>\n",
       "      <th>43</th>\n",
       "      <td>21.5</td>\n",
       "      <td>80</td>\n",
       "      <td>9.080447</td>\n",
       "    </tr>\n",
       "    <tr>\n",
       "      <th>...</th>\n",
       "      <td>...</td>\n",
       "      <td>...</td>\n",
       "      <td>...</td>\n",
       "    </tr>\n",
       "    <tr>\n",
       "      <th>116</th>\n",
       "      <td>58.0</td>\n",
       "      <td>80</td>\n",
       "      <td>23.034315</td>\n",
       "    </tr>\n",
       "    <tr>\n",
       "      <th>117</th>\n",
       "      <td>58.5</td>\n",
       "      <td>80</td>\n",
       "      <td>23.037210</td>\n",
       "    </tr>\n",
       "    <tr>\n",
       "      <th>118</th>\n",
       "      <td>59.0</td>\n",
       "      <td>80</td>\n",
       "      <td>23.040106</td>\n",
       "    </tr>\n",
       "    <tr>\n",
       "      <th>119</th>\n",
       "      <td>59.5</td>\n",
       "      <td>80</td>\n",
       "      <td>23.044450</td>\n",
       "    </tr>\n",
       "    <tr>\n",
       "      <th>120</th>\n",
       "      <td>60.0</td>\n",
       "      <td>80</td>\n",
       "      <td>23.022731</td>\n",
       "    </tr>\n",
       "  </tbody>\n",
       "</table>\n",
       "<p>82 rows × 3 columns</p>\n",
       "</div>"
      ],
      "text/plain": [
       "     Tiempo  Entrada     Salida\n",
       "39     19.5       20   6.785451\n",
       "40     20.0       80   6.755044\n",
       "41     20.5       80   6.724637\n",
       "42     21.0       80   7.552863\n",
       "43     21.5       80   9.080447\n",
       "..      ...      ...        ...\n",
       "116    58.0       80  23.034315\n",
       "117    58.5       80  23.037210\n",
       "118    59.0       80  23.040106\n",
       "119    59.5       80  23.044450\n",
       "120    60.0       80  23.022731\n",
       "\n",
       "[82 rows x 3 columns]"
      ]
     },
     "execution_count": 2,
     "metadata": {},
     "output_type": "execute_result"
    }
   ],
   "source": [
    "a0 = pd.read_csv('C:\\\\Users\\\\jgall\\\\OneDrive\\\\Documentos\\\\ControlAnalogo\\\\DatosJS.csv')\n",
    "a = a0 [a0['Tiempo'] > 19 ] \n",
    "a"
   ]
  },
  {
   "cell_type": "markdown",
   "id": "c105943f",
   "metadata": {},
   "source": [
    "# 3.\tGenere y analice las gráficas correspondientes a las señales de entrada y salida."
   ]
  },
  {
   "cell_type": "code",
   "execution_count": 3,
   "id": "083bfeca",
   "metadata": {},
   "outputs": [],
   "source": [
    "time = a[\"Tiempo\"]-20\n",
    "salida = a[\"Salida\"]\n",
    "escalon = a[\"Entrada\"]-20\n"
   ]
  },
  {
   "cell_type": "code",
   "execution_count": 4,
   "id": "ea8c260c",
   "metadata": {},
   "outputs": [
    {
     "data": {
      "text/plain": [
       "Text(0, 0.5, 'caudal')"
      ]
     },
     "execution_count": 4,
     "metadata": {},
     "output_type": "execute_result"
    },
    {
     "data": {
      "image/png": "[encoded data removed]",
      "text/plain": [
       "<Figure size 432x288 with 1 Axes>"
      ]
     },
     "metadata": {
      "needs_background": "light"
     },
     "output_type": "display_data"
    }
   ],
   "source": [
    "plt.plot(time,salida)\n",
    "plt.xlabel(\"tiempo\")\n",
    "plt.ylabel(\"caudal\")"
   ]
  },
  {
   "cell_type": "code",
   "execution_count": 5,
   "id": "11462277",
   "metadata": {},
   "outputs": [
    {
     "data": {
      "text/plain": [
       "Text(0, 0.5, 'escalon')"
      ]
     },
     "execution_count": 5,
     "metadata": {},
     "output_type": "execute_result"
    },
    {
     "data": {
      "image/png": "[encoded data removed]",
      "text/plain": [
       "<Figure size 432x288 with 1 Axes>"
      ]
     },
     "metadata": {
      "needs_background": "light"
     },
     "output_type": "display_data"
    }
   ],
   "source": [
    "plt.plot(time,escalon)\n",
    "plt.xlabel(\"tiempo\")\n",
    "plt.ylabel(\"escalon\")"
   ]
  },
  {
   "cell_type": "markdown",
   "id": "e21a5e7f",
   "metadata": {},
   "source": [
    "Con la gráfica de la señal de entrada vemos que es de tipo escalón esta permite conocer la respuesta del sistema frente a cambios abruptos en su entrada.\n",
    "\n",
    "Con la grafica de la salida podemos observar que el sistema es estable de primer orden.\n"
   ]
  },
  {
   "cell_type": "markdown",
   "id": "ff44ace2",
   "metadata": {},
   "source": [
    "# 4.\t Encuentre un modelo para el sistema explicando el procedimiento."
   ]
  },
  {
   "cell_type": "markdown",
   "id": "d657e233",
   "metadata": {},
   "source": [
    "Ajuste a un modelo de prtimer orden \n",
    "\n",
    "Se encuentra un modelo de primer orden de la forma:\n",
    "\n",
    "\\begin{equation}\n",
    "G(s) = \\frac{K}{\\tau s + 1} \\cdot e^{-s\\theta}\n",
    "\\end{equation}"
   ]
  },
  {
   "cell_type": "code",
   "execution_count": 6,
   "id": "8edec59f",
   "metadata": {},
   "outputs": [],
   "source": [
    "\n",
    "fopdt\n",
    "ts=np.linspace(0,100,1000)"
   ]
  },
  {
   "cell_type": "code",
   "execution_count": 7,
   "id": "83afeede",
   "metadata": {},
   "outputs": [],
   "source": [
    "def resultplot1(K, tau, theta, y0):\n",
    "    plt.figure(figsize=(20, 7))\n",
    "    plt.scatter(time,salida)\n",
    "    plt.plot(ts, fopdt(ts, K, tau, theta, y0), color='yellow')\n",
    "    plt.grid(True)\n"
   ]
  },
  {
   "cell_type": "code",
   "execution_count": 8,
   "id": "a8d576c4",
   "metadata": {},
   "outputs": [
    {
     "data": {
      "application/vnd.jupyter.widget-view+json": {
       "model_id": "ac0695cefe3a487eab9ac72532199132",
       "version_major": 2,
       "version_minor": 0
      },
      "text/plain": [
       "interactive(children=(FloatSlider(value=50.0, description='K'), FloatSlider(value=50.0, description='tau'), Fl…"
      ]
     },
     "metadata": {},
     "output_type": "display_data"
    }
   ],
   "source": [
    "interact(resultplot1, \n",
    "         K=(0., 100.), \n",
    "         tau=(0., 100.), \n",
    "         theta=(0., 100.), \n",
    "         y0=(0., 20.));"
   ]
  },
  {
   "cell_type": "markdown",
   "id": "c264a4dc",
   "metadata": {},
   "source": [
    "Luego de encontrar el modelo de primer orden, se procede hallando los valores de k (ganancia), tau (constante de tiempo) y teta (retardo), de una forma experimental cambiando sus valores hasta que su grafica coincida con la grafica del sistema. "
   ]
  },
  {
   "cell_type": "markdown",
   "id": "7bdc2e02",
   "metadata": {},
   "source": [
    "# 5.\tGenere y analice las gráficas de polos y ceros y de respuesta temporal del sistema."
   ]
  },
  {
   "cell_type": "code",
   "execution_count": 30,
   "id": "ab7fee7b",
   "metadata": {},
   "outputs": [],
   "source": [
    "k=16.4\n",
    "tau=4.70\n",
    "theta=1.10\n",
    "y0=6.60\n"
   ]
  },
  {
   "cell_type": "code",
   "execution_count": 31,
   "id": "61ef8210",
   "metadata": {},
   "outputs": [
    {
     "data": {
      "text/plain": [
       "[16.420654994945593, 4.489013570371075, 0.8276042860136892, 6.755043983167655]"
      ]
     },
     "execution_count": 31,
     "metadata": {},
     "output_type": "execute_result"
    }
   ],
   "source": [
    "[K, tau, theta, y0], _ = scipy.optimize.curve_fit(fopdt, time, salida, [k, tau, theta, y0])\n",
    "[K, tau, theta, y0]"
   ]
  },
  {
   "cell_type": "code",
   "execution_count": 32,
   "id": "98ef87c7",
   "metadata": {},
   "outputs": [],
   "source": [
    "Y_1orden = fopdt(time, k, tau, theta, y0)"
   ]
  },
  {
   "cell_type": "code",
   "execution_count": null,
   "id": "2761acc9",
   "metadata": {},
   "outputs": [],
   "source": []
  },
  {
   "cell_type": "code",
   "execution_count": 33,
   "id": "696f5e4c",
   "metadata": {},
   "outputs": [
    {
     "name": "stderr",
     "output_type": "stream",
     "text": [
      "C:\\ProgramData\\Anaconda3\\lib\\site-packages\\tbcontrol\\responses.py:51: RuntimeWarning: invalid value encountered in sqrt\n",
      "  root = numpy.sqrt(1 - zeta**2)\n"
     ]
    },
    {
     "data": {
      "text/plain": [
       "[16.41649780301418,\n",
       " 1.373172481821343,\n",
       " 1.764990327501298,\n",
       " 0.4444917809150521,\n",
       " 6.749541559927515]"
      ]
     },
     "execution_count": 33,
     "metadata": {},
     "output_type": "execute_result"
    }
   ],
   "source": [
    "p2_inicial = [2, 0.6, 2, 0.5, 10]\n",
    "[K_2, tau_2, zeta_2, theta_2, y0_2], pcov = scipy.optimize.curve_fit(sopdt, time, salida, p2_inicial)\n",
    "[K_2, tau_2, zeta_2, theta_2, y0_2]"
   ]
  },
  {
   "cell_type": "code",
   "execution_count": 34,
   "id": "f7d3c686",
   "metadata": {},
   "outputs": [
    {
     "data": {
      "text/plain": [
       "array([0.04105713, 0.09261539, 0.10322354, 0.05515413, 0.0400832 ])"
      ]
     },
     "execution_count": 34,
     "metadata": {},
     "output_type": "execute_result"
    }
   ],
   "source": [
    "perr = np.sqrt(np.diag(pcov))\n",
    "perr"
   ]
  },
  {
   "cell_type": "code",
   "execution_count": null,
   "id": "7b73396c",
   "metadata": {},
   "outputs": [],
   "source": []
  },
  {
   "cell_type": "code",
   "execution_count": 35,
   "id": "9d5e9600",
   "metadata": {},
   "outputs": [
    {
     "data": {
      "image/png": "[encoded data removed]",
      "text/plain": [
       "<Figure size 1512x504 with 1 Axes>"
      ]
     },
     "metadata": {
      "needs_background": "light"
     },
     "output_type": "display_data"
    }
   ],
   "source": [
    "plt.figure(figsize=(21, 7))\n",
    "plt.scatter(time, salida, label='Data')\n",
    "plt.plot(time, Y_1orden, color='red', label='ajuste orden 1')\n",
    "plt.legend(loc='best')\n",
    "plt.grid(True)"
   ]
  },
  {
   "cell_type": "code",
   "execution_count": 36,
   "id": "4e4439cb",
   "metadata": {},
   "outputs": [
    {
     "data": {
      "text/latex": [
       "$$\\frac{16.4}{4.489 s + 1}$$"
      ],
      "text/plain": [
       "TransferFunction(array([16.4]), array([4.48901357, 1.        ]))"
      ]
     },
     "execution_count": 36,
     "metadata": {},
     "output_type": "execute_result"
    }
   ],
   "source": [
    "# Se define la función de transferencia del proceso\n",
    "Gp = control.tf([k], [tau, 1])\n",
    "Gp"
   ]
  },
  {
   "cell_type": "code",
   "execution_count": 37,
   "id": "5502e889",
   "metadata": {},
   "outputs": [
    {
     "data": {
      "text/plain": [
       "array([-0.22276609])"
      ]
     },
     "execution_count": 37,
     "metadata": {},
     "output_type": "execute_result"
    }
   ],
   "source": [
    "# Se hallan los polos del proceso\n",
    "polos = Gp.pole()\n",
    "polos"
   ]
  },
  {
   "cell_type": "code",
   "execution_count": 38,
   "id": "076e2f38",
   "metadata": {},
   "outputs": [
    {
     "data": {
      "text/plain": [
       "array([], dtype=float64)"
      ]
     },
     "execution_count": 38,
     "metadata": {},
     "output_type": "execute_result"
    }
   ],
   "source": [
    "# Se hallan los ceros del proceso\n",
    "ceros = Gp.zero()\n",
    "ceros"
   ]
  },
  {
   "cell_type": "code",
   "execution_count": 39,
   "id": "597403ca",
   "metadata": {},
   "outputs": [
    {
     "data": {
      "image/png": "[encoded data removed]",
      "text/plain": [
       "<Figure size 432x288 with 1 Axes>"
      ]
     },
     "metadata": {
      "needs_background": "light"
     },
     "output_type": "display_data"
    }
   ],
   "source": [
    "# Se grafica el mapa de polos y ceros\n",
    "control.pzmap(Gp)\n",
    "plt.grid(True)"
   ]
  },
  {
   "cell_type": "markdown",
   "id": "5d388d49",
   "metadata": {},
   "source": [
    "El sistema tiene un polo en -0.2 y no tiene ceros, entonces entre mas alejado a la izquierda este el polo sobre el eje real más rápido la respuesta transitoria exponencial decaerá a cero."
   ]
  },
  {
   "cell_type": "markdown",
   "id": "b1d9f1d7",
   "metadata": {},
   "source": [
    "# Conclusiones "
   ]
  },
  {
   "cell_type": "markdown",
   "id": "5e257519",
   "metadata": {},
   "source": [
    "Con los datos mostrados anteriormente se identificó que los sistemas persiguen la obtención de modelos matemáticos de sistemas dinámicos a partir de mediciones realizadas en el proceso: entradas o variables de control, salidas o variables controladas.\n",
    "\n",
    "Utilizando los conceptos aprendidos en clase se pudo analizar la toma de datos de un sistema, graficando las señales de entra y salida se definió el modelo del sistema, dándole valores a la función de transferencia de primer orden de forma experimental y graficando los polos y ceros del sistema se evidencia que el sistema excitado por una entrada escalón es estable.\n"
   ]
  },
  {
   "cell_type": "code",
   "execution_count": null,
   "id": "e57c51ba",
   "metadata": {},
   "outputs": [],
   "source": []
  }
 ],
 "metadata": {
  "kernelspec": {
   "display_name": "Python 3 (ipykernel)",
   "language": "python",
   "name": "python3"
  },
  "language_info": {
   "codemirror_mode": {
    "name": "ipython",
    "version": 3
   },
   "file_extension": ".py",
   "mimetype": "text/x-python",
   "name": "python",
   "nbconvert_exporter": "python",
   "pygments_lexer": "ipython3",
   "version": "3.9.7"
  }
 },
 "nbformat": 4,
 "nbformat_minor": 5
}
