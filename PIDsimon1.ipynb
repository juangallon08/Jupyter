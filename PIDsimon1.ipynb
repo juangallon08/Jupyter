{
 "cells": [
  {
   "cell_type": "code",
   "execution_count": 1,
   "id": "ce77578d",
   "metadata": {},
   "outputs": [],
   "source": [
    "import sympy \n",
    "sympy.init_printing()\n",
    "%matplotlib inline\n",
    "\n",
    "import pandas as pd\n",
    "import numpy as np\n",
    "import matplotlib.pyplot as plt\n",
    "import control\n",
    "\n",
    "\n",
    "import scipy.optimize\n",
    "from tbcontrol.responses import fopdt, sopdt\n",
    "from ipywidgets import interact\n",
    "\n",
    "def resultplot1(K, tau, theta, y0):\n",
    "    plt.figure(figsize=(21, 7))\n",
    "    plt.scatter(ts, ym)\n",
    "    plt.plot(ts, fopdt(ts, K, tau, theta, y0), color='red')\n",
    "    plt.grid(True)\n",
    "\n",
    "def resultplot2(K, tau, zeta, theta, y0):\n",
    "    plt.figure(figsize=(21, 7))\n",
    "    plt.scatter(ts, ym)\n",
    "    plt.plot(ts, sopdt(ts, K, tau, zeta,theta, y0), color='red')\n",
    "    plt.grid(True)\n",
    "    \n"
   ]
  },
  {
   "cell_type": "code",
   "execution_count": 2,
   "id": "f0f77cc4",
   "metadata": {},
   "outputs": [
    {
     "data": {
      "text/latex": [
       "$$\\frac{0.216}{3.334 s + 1}$$"
      ],
      "text/plain": [
       "TransferFunction(array([0.216]), array([3.334, 1.   ]))"
      ]
     },
     "execution_count": 2,
     "metadata": {},
     "output_type": "execute_result"
    }
   ],
   "source": [
    "GP = control.tf([0.216], [3.334, 1])\n",
    "GP"
   ]
  },
  {
   "cell_type": "code",
   "execution_count": 34,
   "id": "ac7deb38",
   "metadata": {},
   "outputs": [
    {
     "data": {
      "text/html": [
       "<div>\n",
       "<style scoped>\n",
       "    .dataframe tbody tr th:only-of-type {\n",
       "        vertical-align: middle;\n",
       "    }\n",
       "\n",
       "    .dataframe tbody tr th {\n",
       "        vertical-align: top;\n",
       "    }\n",
       "\n",
       "    .dataframe thead th {\n",
       "        text-align: right;\n",
       "    }\n",
       "</style>\n",
       "<table border=\"1\" class=\"dataframe\">\n",
       "  <thead>\n",
       "    <tr style=\"text-align: right;\">\n",
       "      <th></th>\n",
       "      <th>Tiempo</th>\n",
       "      <th>Referencia</th>\n",
       "      <th>Error</th>\n",
       "      <th>Señal de control</th>\n",
       "      <th>Salida</th>\n",
       "    </tr>\n",
       "  </thead>\n",
       "  <tbody>\n",
       "    <tr>\n",
       "      <th>20</th>\n",
       "      <td>20.0</td>\n",
       "      <td>80</td>\n",
       "      <td>76.925638</td>\n",
       "      <td>76.925638</td>\n",
       "      <td>3.074362</td>\n",
       "    </tr>\n",
       "    <tr>\n",
       "      <th>21</th>\n",
       "      <td>21.0</td>\n",
       "      <td>80</td>\n",
       "      <td>76.872064</td>\n",
       "      <td>76.872064</td>\n",
       "      <td>3.127936</td>\n",
       "    </tr>\n",
       "    <tr>\n",
       "      <th>22</th>\n",
       "      <td>22.0</td>\n",
       "      <td>80</td>\n",
       "      <td>75.314073</td>\n",
       "      <td>75.314073</td>\n",
       "      <td>4.685927</td>\n",
       "    </tr>\n",
       "    <tr>\n",
       "      <th>23</th>\n",
       "      <td>23.0</td>\n",
       "      <td>80</td>\n",
       "      <td>72.995909</td>\n",
       "      <td>72.995909</td>\n",
       "      <td>7.004091</td>\n",
       "    </tr>\n",
       "    <tr>\n",
       "      <th>24</th>\n",
       "      <td>24.0</td>\n",
       "      <td>80</td>\n",
       "      <td>70.905073</td>\n",
       "      <td>70.905073</td>\n",
       "      <td>9.094927</td>\n",
       "    </tr>\n",
       "  </tbody>\n",
       "</table>\n",
       "</div>"
      ],
      "text/plain": [
       "    Tiempo  Referencia      Error  Señal de control    Salida\n",
       "20    20.0          80  76.925638         76.925638  3.074362\n",
       "21    21.0          80  76.872064         76.872064  3.127936\n",
       "22    22.0          80  75.314073         75.314073  4.685927\n",
       "23    23.0          80  72.995909         72.995909  7.004091\n",
       "24    24.0          80  70.905073         70.905073  9.094927"
      ]
     },
     "execution_count": 34,
     "metadata": {},
     "output_type": "execute_result"
    }
   ],
   "source": [
    "a0= pd.read_csv('C:\\\\Users\\\\jgall\\\\OneDrive\\\\Documentos\\\\ControlAnalogo\\\\simon1.csv')\n",
    "df = a0 [a0['Tiempo'] > 19] \n",
    "df.head()"
   ]
  },
  {
   "cell_type": "code",
   "execution_count": 38,
   "id": "307c0f03",
   "metadata": {},
   "outputs": [
    {
     "data": {
      "application/vnd.jupyter.widget-view+json": {
       "model_id": "17a340b30a0e4b1f87ee8da1ba59d780",
       "version_major": 2,
       "version_minor": 0
      },
      "text/plain": [
       "interactive(children=(FloatSlider(value=15.0, description='K', max=30.0), FloatSlider(value=10.0, description=…"
      ]
     },
     "metadata": {},
     "output_type": "display_data"
    }
   ],
   "source": [
    "ym = df.Salida\n",
    "ts = df.Tiempo\n",
    "interact(resultplot2, K=(0.0, 30), tau=(0., 20.0), \n",
    "         theta=(0., 20.), zeta = (0, 20.0), y0=(-20., 30.));"
   ]
  },
  {
   "cell_type": "code",
   "execution_count": 39,
   "id": "48e2a6ce",
   "metadata": {},
   "outputs": [
    {
     "name": "stderr",
     "output_type": "stream",
     "text": [
      "C:\\ProgramData\\Anaconda3\\lib\\site-packages\\IPython\\lib\\latextools.py:126: MatplotlibDeprecationWarning: \n",
      "The to_png function was deprecated in Matplotlib 3.4 and will be removed two minor releases later. Use mathtext.math_to_image instead.\n",
      "  mt.to_png(f, s, fontsize=12, dpi=dpi, color=color)\n",
      "C:\\ProgramData\\Anaconda3\\lib\\site-packages\\IPython\\lib\\latextools.py:126: MatplotlibDeprecationWarning: \n",
      "The to_rgba function was deprecated in Matplotlib 3.4 and will be removed two minor releases later. Use mathtext.math_to_image instead.\n",
      "  mt.to_png(f, s, fontsize=12, dpi=dpi, color=color)\n",
      "C:\\ProgramData\\Anaconda3\\lib\\site-packages\\IPython\\lib\\latextools.py:126: MatplotlibDeprecationWarning: \n",
      "The to_mask function was deprecated in Matplotlib 3.4 and will be removed two minor releases later. Use mathtext.math_to_image instead.\n",
      "  mt.to_png(f, s, fontsize=12, dpi=dpi, color=color)\n",
      "C:\\ProgramData\\Anaconda3\\lib\\site-packages\\IPython\\lib\\latextools.py:126: MatplotlibDeprecationWarning: \n",
      "The MathtextBackendBitmap class was deprecated in Matplotlib 3.4 and will be removed two minor releases later. Use mathtext.math_to_image instead.\n",
      "  mt.to_png(f, s, fontsize=12, dpi=dpi, color=color)\n"
     ]
    },
    {
     "data": {
      "image/png": "[encoded data removed]",
      "text/latex": [
       "$\\displaystyle \\left[ 12.8959480903081, \\  2.74544413697367, \\  0.83958348504519, \\  20.0638710434478, \\  2.83065854051329\\right]$"
      ],
      "text/plain": [
       "[12.895948090308105, 2.745444136973666, 0.8395834850451895, 20.063871043447826\n",
       ", 2.8306585405132925]"
      ]
     },
     "execution_count": 39,
     "metadata": {},
     "output_type": "execute_result"
    }
   ],
   "source": [
    "p_inicial = [18, 4.50, 0.80, 16, -2]\n",
    "[K_1, tau_1, zeta_1, theta_1, y0_1], pcov = scipy.optimize.curve_fit(sopdt, ts, ym, p_inicial)\n",
    "[K_1, tau_1, zeta_1, theta_1, y0_1]"
   ]
  },
  {
   "cell_type": "code",
   "execution_count": 79,
   "id": "3cd88a6e",
   "metadata": {},
   "outputs": [],
   "source": [
    "tauC = 100"
   ]
  },
  {
   "cell_type": "code",
   "execution_count": 80,
   "id": "90cba1ce",
   "metadata": {},
   "outputs": [
    {
     "name": "stderr",
     "output_type": "stream",
     "text": [
      "C:\\ProgramData\\Anaconda3\\lib\\site-packages\\IPython\\lib\\latextools.py:126: MatplotlibDeprecationWarning: \n",
      "The to_png function was deprecated in Matplotlib 3.4 and will be removed two minor releases later. Use mathtext.math_to_image instead.\n",
      "  mt.to_png(f, s, fontsize=12, dpi=dpi, color=color)\n",
      "C:\\ProgramData\\Anaconda3\\lib\\site-packages\\IPython\\lib\\latextools.py:126: MatplotlibDeprecationWarning: \n",
      "The to_rgba function was deprecated in Matplotlib 3.4 and will be removed two minor releases later. Use mathtext.math_to_image instead.\n",
      "  mt.to_png(f, s, fontsize=12, dpi=dpi, color=color)\n",
      "C:\\ProgramData\\Anaconda3\\lib\\site-packages\\IPython\\lib\\latextools.py:126: MatplotlibDeprecationWarning: \n",
      "The to_mask function was deprecated in Matplotlib 3.4 and will be removed two minor releases later. Use mathtext.math_to_image instead.\n",
      "  mt.to_png(f, s, fontsize=12, dpi=dpi, color=color)\n",
      "C:\\ProgramData\\Anaconda3\\lib\\site-packages\\IPython\\lib\\latextools.py:126: MatplotlibDeprecationWarning: \n",
      "The MathtextBackendBitmap class was deprecated in Matplotlib 3.4 and will be removed two minor releases later. Use mathtext.math_to_image instead.\n",
      "  mt.to_png(f, s, fontsize=12, dpi=dpi, color=color)\n"
     ]
    },
    {
     "data": {
      "image/png": "[encoded data removed]",
      "text/latex": [
       "$\\displaystyle 0.214932468171802$"
      ],
      "text/plain": [
       "0.21493246817180175"
      ]
     },
     "execution_count": 80,
     "metadata": {},
     "output_type": "execute_result"
    }
   ],
   "source": [
    "k_11=K_1/60\n",
    "k_11\n"
   ]
  },
  {
   "cell_type": "code",
   "execution_count": 81,
   "id": "d21467e7",
   "metadata": {},
   "outputs": [
    {
     "data": {
      "text/latex": [
       "$$\\frac{-0.216 s + 0.02153}{3.334 s^2 + 1.332 s + 0.09968}$$"
      ],
      "text/plain": [
       "TransferFunction(array([-0.216     ,  0.02153124]), array([3.334     , 1.33233866, 0.09968166]))"
      ]
     },
     "execution_count": 81,
     "metadata": {},
     "output_type": "execute_result"
    }
   ],
   "source": [
    "n_pade,d_pade = control.pade(theta_1,1)\n",
    "GPP_pade = control.tf([0.216],[3.334,1])*control.tf(n_pade,d_pade)\n",
    "GPP_pade"
   ]
  },
  {
   "cell_type": "code",
   "execution_count": 82,
   "id": "aba5f3d5",
   "metadata": {},
   "outputs": [
    {
     "data": {
      "image/png": "[encoded data removed]",
      "text/latex": [
       "$\\displaystyle \\left[ 0.26832513424218, \\  4.61005911303447, \\  1.63500365709665\\right]$"
      ],
      "text/plain": [
       "[0.2683251342421797, 4.610059113034467, 1.6350036570966473]"
      ]
     },
     "execution_count": 82,
     "metadata": {},
     "output_type": "execute_result"
    }
   ],
   "source": [
    "KC1 = -2*tau_1*zeta_1/(k_11*(theta_1 - tauC))\n",
    "TD1 = tau_1/(2*zeta_1)\n",
    "TI1 = 2*tau_1*zeta_1\n",
    "[KC1,TI1,TD1]"
   ]
  },
  {
   "cell_type": "code",
   "execution_count": 83,
   "id": "4a6bc6a2",
   "metadata": {},
   "outputs": [
    {
     "data": {
      "text/latex": [
       "$$\\frac{2.022 s^2 + 1.237 s + 0.2683}{4.61 s}$$"
      ],
      "text/plain": [
       "TransferFunction(array([2.02249091, 1.23699473, 0.26832513]), array([4.61005911, 0.        ]))"
      ]
     },
     "execution_count": 83,
     "metadata": {},
     "output_type": "execute_result"
    }
   ],
   "source": [
    "GC_PID1 = KC1*(1 + control.tf(1,[TI1,0]) + control.tf([TD1,0],1))\n",
    "GC_PID1"
   ]
  },
  {
   "cell_type": "code",
   "execution_count": 84,
   "id": "1bf12464",
   "metadata": {},
   "outputs": [
    {
     "data": {
      "image/png": "[encoded data removed]",
      "text/plain": [
       "<Figure size 432x288 with 1 Axes>"
      ]
     },
     "metadata": {
      "needs_background": "light"
     },
     "output_type": "display_data"
    }
   ],
   "source": [
    "_, yLA = control.step_response(GP,ts)\n",
    "_, yLC1 = control.step_response(control.feedback(GP,1),ts)\n",
    "_, yLCPID1 = control.step_response(control.feedback(GC_PID1*GPP_pade,1),ts)\n",
    "\n",
    "plt.plot(ts,yLA,\n",
    "         ts,yLC1,\n",
    "         ts,yLCPID1)\n",
    "plt.legend(('Lazo abierto','Realimentado','con PID directo'))\n",
    "plt.grid()\n"
   ]
  },
  {
   "cell_type": "code",
   "execution_count": 85,
   "id": "634441cc",
   "metadata": {},
   "outputs": [
    {
     "data": {
      "image/png": "[encoded data removed]",
      "text/plain": [
       "<Figure size 432x288 with 1 Axes>"
      ]
     },
     "metadata": {
      "needs_background": "light"
     },
     "output_type": "display_data"
    }
   ],
   "source": [
    "TM = 1.3\n",
    "TAU = 3.5\n",
    "GPRUEBA = control.tf([1],[TAU,1])\n",
    "_, yPRUEBALA = control.step_response(GPRUEBA,ts)\n",
    "plt.plot(ts,yPRUEBALA)\n",
    "plt.legend(('Lazo abierto'))\n",
    "plt.grid()"
   ]
  },
  {
   "cell_type": "code",
   "execution_count": 86,
   "id": "235b79e5",
   "metadata": {},
   "outputs": [
    {
     "data": {
      "text/latex": [
       "$$\\frac{-s + 1.538}{s + 1.538}$$"
      ],
      "text/plain": [
       "TransferFunction(array([-1.        ,  1.53846154]), array([1.        , 1.53846154]))"
      ]
     },
     "execution_count": 86,
     "metadata": {},
     "output_type": "execute_result"
    }
   ],
   "source": [
    "NUM_TM,DEN_TM = control.pade(TM,1)\n",
    "TM_TF = control.tf(NUM_TM,DEN_TM)\n",
    "TM_TF"
   ]
  },
  {
   "cell_type": "code",
   "execution_count": 87,
   "id": "7b57bcde",
   "metadata": {},
   "outputs": [
    {
     "data": {
      "image/png": "[encoded data removed]",
      "text/plain": [
       "<Figure size 432x288 with 1 Axes>"
      ]
     },
     "metadata": {
      "needs_background": "light"
     },
     "output_type": "display_data"
    }
   ],
   "source": [
    "_, yPRUEBALA_TM = control.step_response(GPRUEBA*TM_TF,ts)\n",
    "plt.plot(ts,yPRUEBALA,ts,yPRUEBALA_TM)\n",
    "plt.legend(('no tm','si tm'))\n",
    "plt.grid()"
   ]
  },
  {
   "cell_type": "code",
   "execution_count": 88,
   "id": "6c8446a9",
   "metadata": {},
   "outputs": [
    {
     "data": {
      "text/latex": [
       "$$\\frac{-s + 1.538}{3.5 s^2 + 6.385 s + 1.538}$$"
      ],
      "text/plain": [
       "TransferFunction(array([-1.        ,  1.53846154]), array([3.5       , 6.38461538, 1.53846154]))"
      ]
     },
     "execution_count": 88,
     "metadata": {},
     "output_type": "execute_result"
    }
   ],
   "source": [
    "GPRUEBA*TM_TF"
   ]
  },
  {
   "cell_type": "code",
   "execution_count": 89,
   "id": "3357c560",
   "metadata": {},
   "outputs": [
    {
     "data": {
      "application/vnd.jupyter.widget-view+json": {
       "model_id": "de27b47d86ed4c96a054627d04f8f7a2",
       "version_major": 2,
       "version_minor": 0
      },
      "text/plain": [
       "interactive(children=(FloatSlider(value=0.0, description='K', max=30.0, min=-30.0), FloatSlider(value=0.0, des…"
      ]
     },
     "metadata": {},
     "output_type": "display_data"
    }
   ],
   "source": [
    "ym = df.Salida\n",
    "ts = df.Tiempo\n",
    "interact(resultplot1, K=(-30, 30.0), tau=(-30., 30.), \n",
    "         theta=(-30., 30.), y0=(-20., 30.));"
   ]
  },
  {
   "cell_type": "code",
   "execution_count": 90,
   "id": "3b50ca5b",
   "metadata": {},
   "outputs": [
    {
     "name": "stderr",
     "output_type": "stream",
     "text": [
      "C:\\ProgramData\\Anaconda3\\lib\\site-packages\\IPython\\lib\\latextools.py:126: MatplotlibDeprecationWarning: \n",
      "The to_png function was deprecated in Matplotlib 3.4 and will be removed two minor releases later. Use mathtext.math_to_image instead.\n",
      "  mt.to_png(f, s, fontsize=12, dpi=dpi, color=color)\n",
      "C:\\ProgramData\\Anaconda3\\lib\\site-packages\\IPython\\lib\\latextools.py:126: MatplotlibDeprecationWarning: \n",
      "The to_rgba function was deprecated in Matplotlib 3.4 and will be removed two minor releases later. Use mathtext.math_to_image instead.\n",
      "  mt.to_png(f, s, fontsize=12, dpi=dpi, color=color)\n",
      "C:\\ProgramData\\Anaconda3\\lib\\site-packages\\IPython\\lib\\latextools.py:126: MatplotlibDeprecationWarning: \n",
      "The to_mask function was deprecated in Matplotlib 3.4 and will be removed two minor releases later. Use mathtext.math_to_image instead.\n",
      "  mt.to_png(f, s, fontsize=12, dpi=dpi, color=color)\n",
      "C:\\ProgramData\\Anaconda3\\lib\\site-packages\\IPython\\lib\\latextools.py:126: MatplotlibDeprecationWarning: \n",
      "The MathtextBackendBitmap class was deprecated in Matplotlib 3.4 and will be removed two minor releases later. Use mathtext.math_to_image instead.\n",
      "  mt.to_png(f, s, fontsize=12, dpi=dpi, color=color)\n"
     ]
    },
    {
     "data": {
      "image/png": "[encoded data removed]",
      "text/latex": [
       "$\\displaystyle \\left[ 12.6562337197444, \\  3.3340501709302, \\  21.6906389696803, \\  3.10114919684231\\right]$"
      ],
      "text/plain": [
       "[12.656233719744359, 3.3340501709301975, 21.69063896968025, 3.1011491968423086\n",
       "]"
      ]
     },
     "execution_count": 90,
     "metadata": {},
     "output_type": "execute_result"
    }
   ],
   "source": [
    "p_inicial = [12.89, 3.10, 21.90, 3]\n",
    "[K_2, tau_2, theta_2, y0_2], pcov = scipy.optimize.curve_fit(fopdt, ts, ym, p_inicial)\n",
    "[K_2, tau_2, theta_2, y0_2]"
   ]
  },
  {
   "cell_type": "code",
   "execution_count": 91,
   "id": "a4da32c1",
   "metadata": {},
   "outputs": [
    {
     "data": {
      "text/latex": [
       "$$\\frac{-0.2109 s + 0.01945}{3.334 s^2 + 1.307 s + 0.09221}$$"
      ],
      "text/plain": [
       "TransferFunction(array([-0.21093723,  0.01944961]), array([3.33405017, 1.30741835, 0.09220567]))"
      ]
     },
     "execution_count": 91,
     "metadata": {},
     "output_type": "execute_result"
    }
   ],
   "source": [
    "n_pade,d_pade = control.pade(theta_2,1)\n",
    "Gp_pade = control.tf([K_2/60],[tau_2,1])*control.tf(n_pade,d_pade)\n",
    "Gp_pade\n",
    "#control.pzmap(Gp_pade);"
   ]
  },
  {
   "cell_type": "code",
   "execution_count": 92,
   "id": "73055d07",
   "metadata": {},
   "outputs": [
    {
     "data": {
      "image/png": "[encoded data removed]",
      "text/latex": [
       "$\\displaystyle \\left[ 0.874435529402013, \\  43.3812779393605, \\  10.8453194848401\\right]$"
      ],
      "text/plain": [
       "[0.8744355294020126, 43.3812779393605, 10.845319484840125]"
      ]
     },
     "execution_count": 92,
     "metadata": {},
     "output_type": "execute_result"
    }
   ],
   "source": [
    "KC2 = 1.2*tau_2/(K_2/60*theta_2)\n",
    "TI2 = 2*theta_2\n",
    "TD2 = 0.5*theta_2\n",
    "[KC2,TI2,TD2]"
   ]
  },
  {
   "cell_type": "code",
   "execution_count": 93,
   "id": "ab7e440f",
   "metadata": {},
   "outputs": [],
   "source": [
    "KC2,TI2,TD2 = (0.87,43.38,10.85)"
   ]
  },
  {
   "cell_type": "code",
   "execution_count": 94,
   "id": "9cd22742",
   "metadata": {},
   "outputs": [
    {
     "data": {
      "text/latex": [
       "$$\\frac{409.9 s^2 + 37.75 s + 0.87}{0.4707 s^2 + 43.38 s}$$"
      ],
      "text/plain": [
       "TransferFunction(array([409.89499551,  37.7500395 ,   0.87      ]), array([ 0.470673, 43.38    ,  0.      ]))"
      ]
     },
     "execution_count": 94,
     "metadata": {},
     "output_type": "execute_result"
    }
   ],
   "source": [
    "GC_PID2 = KC2*(1 + control.tf(1,[TI2,0]) + control.tf([TD2,0],[0.001*TD2,1]))\n",
    "GC_PID2"
   ]
  },
  {
   "cell_type": "code",
   "execution_count": 95,
   "id": "1cf45746",
   "metadata": {},
   "outputs": [
    {
     "data": {
      "image/png": "[encoded data removed]",
      "text/plain": [
       "<Figure size 432x288 with 1 Axes>"
      ]
     },
     "metadata": {
      "needs_background": "light"
     },
     "output_type": "display_data"
    }
   ],
   "source": [
    "\n",
    "_, yLCPID2 = control.step_response(control.feedback(GC_PID2*Gp_pade,1),ts)\n",
    "\n",
    "plt.plot(ts,yLA,\n",
    "         ts,yLC1,\n",
    "         ts,yLCPID1,\n",
    "         ts,yLCPID2)\n",
    "plt.legend(('Lazo abierto','Realimentado','PID directo','ZyN abierto'))\n",
    "plt.grid()\n"
   ]
  },
  {
   "cell_type": "code",
   "execution_count": 26,
   "id": "94dc6745",
   "metadata": {},
   "outputs": [
    {
     "data": {
      "text/latex": [
       "$$\\frac{-0.2109 s + 0.01945}{3.334 s^2 + 1.307 s + 0.09221}$$"
      ],
      "text/plain": [
       "TransferFunction(array([-0.21093723,  0.01944961]), array([3.33405017, 1.30741835, 0.09220567]))"
      ]
     },
     "execution_count": 26,
     "metadata": {},
     "output_type": "execute_result"
    }
   ],
   "source": [
    "Gp_pade\n"
   ]
  },
  {
   "cell_type": "code",
   "execution_count": 27,
   "id": "8809da83",
   "metadata": {},
   "outputs": [
    {
     "data": {
      "image/png": "[encoded data removed]",
      "text/plain": [
       "<Figure size 432x288 with 1 Axes>"
      ]
     },
     "metadata": {
      "needs_background": "light"
     },
     "output_type": "display_data"
    }
   ],
   "source": [
    "control.pzmap(Gp_pade*GC_PID2 );"
   ]
  },
  {
   "cell_type": "code",
   "execution_count": null,
   "id": "1cbf7de7",
   "metadata": {},
   "outputs": [],
   "source": [
    "GC_PID2 "
   ]
  }
 ],
 "metadata": {
  "kernelspec": {
   "display_name": "Python 3 (ipykernel)",
   "language": "python",
   "name": "python3"
  },
  "language_info": {
   "codemirror_mode": {
    "name": "ipython",
    "version": 3
   },
   "file_extension": ".py",
   "mimetype": "text/x-python",
   "name": "python",
   "nbconvert_exporter": "python",
   "pygments_lexer": "ipython3",
   "version": "3.9.7"
  }
 },
 "nbformat": 4,
 "nbformat_minor": 5
}
