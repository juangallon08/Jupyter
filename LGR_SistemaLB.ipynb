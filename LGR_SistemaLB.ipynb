{
 "cells": [
  {
   "cell_type": "code",
   "execution_count": 1,
   "id": "0767f070",
   "metadata": {},
   "outputs": [],
   "source": [
    "import numpy as np\n",
    "import matplotlib.pyplot as plt\n",
    "%matplotlib inline\n",
    "import control\n",
    "from ipywidgets import interact\n",
    "\n",
    "ts = np.linspace(0, 10, 1000)\n",
    "\n",
    "def pzmap_k(kc):\n",
    "    plt.rcParams['figure.figsize'] = 10,4\n",
    "\n",
    "    print(kc)\n",
    "    ax_pzmap = plt.subplot2grid((1, 2), (0, 0))\n",
    "    ax_resp = plt.subplot2grid((1, 2), (0, 1))\n",
    "\n",
    "    gLC = control.feedback(kc*Gp,1)\n",
    "    _, yLC = control.step_response(gLC, ts)\n",
    "\n",
    "    pLC = gLC.pole()\n",
    "    cLC = gLC.zero()\n",
    "    \n",
    "    \n",
    "    ax_pzmap.plot(pLA.real, pLA.imag, 'rx',\n",
    "                  cLA.real, cLA.imag, 'ro',\n",
    "                  pLC.real, pLC.imag, 'bx',\n",
    "                  cLC.real, cLC.imag, 'bo')\n",
    "    ax_pzmap.legend(('p LA', 'c LA', 'p LC','c LC'))\n",
    "    ax_pzmap.axis(visualizacion_s)\n",
    "    ax_pzmap.grid()\n",
    "    ax_resp.plot(ts,yLA,'r',ts,yLC,'b')\n",
    "    ax_resp.axis(visualizacion_t)\n",
    "    ax_resp.grid()\n",
    "\n",
    "\n",
    "def rlocus_int(kc):\n",
    "    print(kc)\n",
    "    plt.rcParams['figure.figsize'] = 10,4\n",
    "    ax_pzmap = plt.subplot2grid((1, 2), (0, 0))\n",
    "    ax_resp = plt.subplot2grid((1, 2), (0, 1))\n",
    "    _, y = control.step_response(Gp, ts)\n",
    "\n",
    "    gLC = control.feedback(kc*Gp,1)\n",
    "    _, yLC = control.step_response(gLC, ts)\n",
    "\n",
    "    rlist,klist = control.root_locus(Gp,plot = False);\n",
    "    \n",
    "    pLC = gLC.pole()\n",
    "    cLC = gLC.zero()\n",
    "    \n",
    "    \n",
    "    ax_pzmap.plot(pLA.real, pLA.imag, 'rx',\n",
    "                  cLA.real, cLA.imag, 'ro',\n",
    "                  pLC.real, pLC.imag, 'bx',\n",
    "                  cLC.real, cLC.imag, 'bo',\n",
    "                  rlist.real, rlist.imag, '-k')\n",
    "    ax_pzmap.legend(('p LA', 'c LA', 'p LC','c LC','LGDR'))\n",
    "    ax_pzmap.axis(visualizacion_s)\n",
    "    ax_pzmap.grid()\n",
    "    ax_resp.plot(ts,yLA,'r',ts,yLC,'b')\n",
    "    ax_resp.axis(visualizacion_t)\n",
    "    ax_resp.grid()\n"
   ]
  },
  {
   "cell_type": "markdown",
   "id": "1a4ab097",
   "metadata": {},
   "source": [
    "# Lugar Geométrico de las Raíces"
   ]
  },
  {
   "cell_type": "markdown",
   "id": "b69fcb44",
   "metadata": {},
   "source": [
    "Juan Dvid Gallon Hernandez\n",
    "\n",
    "Simon Uribe "
   ]
  },
  {
   "cell_type": "markdown",
   "id": "72b94485",
   "metadata": {},
   "source": [
    "Para el modelo que se obtuvo mediante la identificación del sistema, donde se tomaron los datos con el objetivo de controlar el flujo "
   ]
  },
  {
   "cell_type": "code",
   "execution_count": 2,
   "id": "dfc2a0f5",
   "metadata": {},
   "outputs": [
    {
     "data": {
      "text/latex": [
       "$$\\frac{0.27}{4.489 s + 1}$$"
      ],
      "text/plain": [
       "TransferFunction(array([0.27]), array([4.489, 1.   ]))"
      ]
     },
     "execution_count": 2,
     "metadata": {},
     "output_type": "execute_result"
    }
   ],
   "source": [
    "# Se define la función de transferencia del proceso\n",
    "Gp = control.tf([0.27], [4.489,1])\n",
    "Gp"
   ]
  },
  {
   "cell_type": "markdown",
   "id": "72cafcf4",
   "metadata": {},
   "source": [
    "Varíe $k_c$ y observe cómo varía la posición de los polos del sistema."
   ]
  },
  {
   "cell_type": "code",
   "execution_count": 5,
   "id": "3cefc252",
   "metadata": {},
   "outputs": [
    {
     "data": {
      "application/vnd.jupyter.widget-view+json": {
       "model_id": "dc8a5e749604459297c924a295e37583",
       "version_major": 2,
       "version_minor": 0
      },
      "text/plain": [
       "interactive(children=(FloatSlider(value=0.0, description='kc', max=30.0, min=-30.0), Output()), _dom_classes=(…"
      ]
     },
     "metadata": {},
     "output_type": "display_data"
    },
    {
     "data": {
      "text/plain": [
       "<function __main__.pzmap_k(kc)>"
      ]
     },
     "execution_count": 5,
     "metadata": {},
     "output_type": "execute_result"
    }
   ],
   "source": [
    "visualizacion_s = [-10,10, -5, 5]\n",
    "visualizacion_t = [0, 20, -2, 2]\n",
    "\n",
    "pLA = Gp.pole()\n",
    "cLA = Gp.zero()\n",
    "_, yLA = control.step_response(Gp, ts)\n",
    "\n",
    "interact(pzmap_k, \n",
    "         kc=(-30., 30.))"
   ]
  },
  {
   "cell_type": "code",
   "execution_count": 6,
   "id": "f2f8c375",
   "metadata": {},
   "outputs": [
    {
     "data": {
      "text/latex": [
       "$$\\frac{4.1}{4.489 s + 1}$$"
      ],
      "text/plain": [
       "TransferFunction(array([4.1]), array([4.489, 1.   ]))"
      ]
     },
     "execution_count": 6,
     "metadata": {},
     "output_type": "execute_result"
    }
   ],
   "source": [
    "Kc=4.10\n",
    "# Se define la nueva función de transferencia con el valor de Kc\n",
    "Gpk = control.tf([Kc], [4.489,1])\n",
    "Gpk"
   ]
  },
  {
   "cell_type": "code",
   "execution_count": 7,
   "id": "fcad3064",
   "metadata": {},
   "outputs": [
    {
     "data": {
      "image/png": "[encoded data removed]",
      "text/plain": [
       "<Figure size 720x288 with 1 Axes>"
      ]
     },
     "metadata": {
      "needs_background": "light"
     },
     "output_type": "display_data"
    }
   ],
   "source": [
    "_, yLC1 = control.step_response(control.feedback(Gp,1),ts)\n",
    "plt.plot(ts,yLC1)\n",
    "plt.grid()\n"
   ]
  },
  {
   "cell_type": "code",
   "execution_count": 8,
   "id": "1f36fa04",
   "metadata": {},
   "outputs": [
    {
     "data": {
      "image/png": "[encoded data removed]",
      "text/plain": [
       "<Figure size 720x288 with 1 Axes>"
      ]
     },
     "metadata": {
      "needs_background": "light"
     },
     "output_type": "display_data"
    }
   ],
   "source": [
    "_, yLC = control.step_response(control.feedback(Gpk),ts)\n",
    "plt.plot(ts,yLC)\n",
    "plt.grid()\n"
   ]
  },
  {
   "cell_type": "code",
   "execution_count": 9,
   "id": "9576a0e6",
   "metadata": {},
   "outputs": [
    {
     "data": {
      "image/png": "[encoded data removed]",
      "text/plain": [
       "<Figure size 720x288 with 1 Axes>"
      ]
     },
     "metadata": {
      "needs_background": "light"
     },
     "output_type": "display_data"
    }
   ],
   "source": [
    "plt.plot(ts,yLC,ts,yLC1)\n",
    "plt.legend(('GpKc','Gp'))\n",
    "plt.grid()\n"
   ]
  },
  {
   "cell_type": "markdown",
   "id": "a3d2466f",
   "metadata": {},
   "source": [
    "Se observa que al aumentar el valor de Kc el sistema se estabiliza mucho más rápido y los polos del sistema se corren mas hacia la izquierda, cada vez más negativos. "
   ]
  },
  {
   "cell_type": "markdown",
   "id": "e8f1104d",
   "metadata": {},
   "source": [
    "# Comparar con las respuestas experimentales"
   ]
  },
  {
   "cell_type": "code",
   "execution_count": 10,
   "id": "4749f021",
   "metadata": {},
   "outputs": [],
   "source": [
    "import pandas as pd "
   ]
  },
  {
   "cell_type": "markdown",
   "id": "c04ede94",
   "metadata": {},
   "source": [
    "Primera toma experimental variando k "
   ]
  },
  {
   "cell_type": "code",
   "execution_count": 11,
   "id": "07af63e6",
   "metadata": {},
   "outputs": [
    {
     "data": {
      "text/html": [
       "<div>\n",
       "<style scoped>\n",
       "    .dataframe tbody tr th:only-of-type {\n",
       "        vertical-align: middle;\n",
       "    }\n",
       "\n",
       "    .dataframe tbody tr th {\n",
       "        vertical-align: top;\n",
       "    }\n",
       "\n",
       "    .dataframe thead th {\n",
       "        text-align: right;\n",
       "    }\n",
       "</style>\n",
       "<table border=\"1\" class=\"dataframe\">\n",
       "  <thead>\n",
       "    <tr style=\"text-align: right;\">\n",
       "      <th></th>\n",
       "      <th>Tiempo</th>\n",
       "      <th>Referencia</th>\n",
       "      <th>Error</th>\n",
       "      <th>Señal de control</th>\n",
       "      <th>Salida</th>\n",
       "    </tr>\n",
       "  </thead>\n",
       "  <tbody>\n",
       "    <tr>\n",
       "      <th>0</th>\n",
       "      <td>0.0</td>\n",
       "      <td>20</td>\n",
       "      <td>20.015557</td>\n",
       "      <td>20.015557</td>\n",
       "      <td>-0.015557</td>\n",
       "    </tr>\n",
       "    <tr>\n",
       "      <th>1</th>\n",
       "      <td>1.0</td>\n",
       "      <td>20</td>\n",
       "      <td>20.015557</td>\n",
       "      <td>20.015557</td>\n",
       "      <td>-0.015557</td>\n",
       "    </tr>\n",
       "    <tr>\n",
       "      <th>2</th>\n",
       "      <td>2.0</td>\n",
       "      <td>20</td>\n",
       "      <td>20.012661</td>\n",
       "      <td>20.012661</td>\n",
       "      <td>-0.012661</td>\n",
       "    </tr>\n",
       "    <tr>\n",
       "      <th>3</th>\n",
       "      <td>3.0</td>\n",
       "      <td>20</td>\n",
       "      <td>20.014109</td>\n",
       "      <td>20.014109</td>\n",
       "      <td>-0.014109</td>\n",
       "    </tr>\n",
       "    <tr>\n",
       "      <th>4</th>\n",
       "      <td>4.0</td>\n",
       "      <td>20</td>\n",
       "      <td>18.723988</td>\n",
       "      <td>18.723988</td>\n",
       "      <td>1.276012</td>\n",
       "    </tr>\n",
       "    <tr>\n",
       "      <th>...</th>\n",
       "      <td>...</td>\n",
       "      <td>...</td>\n",
       "      <td>...</td>\n",
       "      <td>...</td>\n",
       "      <td>...</td>\n",
       "    </tr>\n",
       "    <tr>\n",
       "      <th>116</th>\n",
       "      <td>116.0</td>\n",
       "      <td>80</td>\n",
       "      <td>64.719443</td>\n",
       "      <td>64.719443</td>\n",
       "      <td>15.280557</td>\n",
       "    </tr>\n",
       "    <tr>\n",
       "      <th>117</th>\n",
       "      <td>117.0</td>\n",
       "      <td>80</td>\n",
       "      <td>64.733922</td>\n",
       "      <td>64.733922</td>\n",
       "      <td>15.266078</td>\n",
       "    </tr>\n",
       "    <tr>\n",
       "      <th>118</th>\n",
       "      <td>118.0</td>\n",
       "      <td>80</td>\n",
       "      <td>64.744058</td>\n",
       "      <td>64.744058</td>\n",
       "      <td>15.255942</td>\n",
       "    </tr>\n",
       "    <tr>\n",
       "      <th>119</th>\n",
       "      <td>119.0</td>\n",
       "      <td>80</td>\n",
       "      <td>64.728130</td>\n",
       "      <td>64.728130</td>\n",
       "      <td>15.271870</td>\n",
       "    </tr>\n",
       "    <tr>\n",
       "      <th>120</th>\n",
       "      <td>120.0</td>\n",
       "      <td>80</td>\n",
       "      <td>64.720891</td>\n",
       "      <td>64.720891</td>\n",
       "      <td>15.279109</td>\n",
       "    </tr>\n",
       "  </tbody>\n",
       "</table>\n",
       "<p>121 rows × 5 columns</p>\n",
       "</div>"
      ],
      "text/plain": [
       "     Tiempo  Referencia      Error  Señal de control     Salida\n",
       "0       0.0          20  20.015557         20.015557  -0.015557\n",
       "1       1.0          20  20.015557         20.015557  -0.015557\n",
       "2       2.0          20  20.012661         20.012661  -0.012661\n",
       "3       3.0          20  20.014109         20.014109  -0.014109\n",
       "4       4.0          20  18.723988         18.723988   1.276012\n",
       "..      ...         ...        ...               ...        ...\n",
       "116   116.0          80  64.719443         64.719443  15.280557\n",
       "117   117.0          80  64.733922         64.733922  15.266078\n",
       "118   118.0          80  64.744058         64.744058  15.255942\n",
       "119   119.0          80  64.728130         64.728130  15.271870\n",
       "120   120.0          80  64.720891         64.720891  15.279109\n",
       "\n",
       "[121 rows x 5 columns]"
      ]
     },
     "execution_count": 11,
     "metadata": {},
     "output_type": "execute_result"
    }
   ],
   "source": [
    "a0 = pd.read_csv('C:\\\\Users\\\\jgall\\\\OneDrive\\\\Documentos\\\\ControlAnalogo\\\\simon1.csv')\n",
    "a = a0 ##[a0['Tiempo'] > 19 ] \n",
    "a"
   ]
  },
  {
   "cell_type": "code",
   "execution_count": 12,
   "id": "32eb64d3",
   "metadata": {},
   "outputs": [
    {
     "data": {
      "text/plain": [
       "[<matplotlib.lines.Line2D at 0x188cdf28700>,\n",
       " <matplotlib.lines.Line2D at 0x188cdf28370>]"
      ]
     },
     "execution_count": 12,
     "metadata": {},
     "output_type": "execute_result"
    },
    {
     "data": {
      "image/png": "[encoded data removed]",
      "text/plain": [
       "<Figure size 720x288 with 1 Axes>"
      ]
     },
     "metadata": {
      "needs_background": "light"
     },
     "output_type": "display_data"
    }
   ],
   "source": [
    "time = a[\"Tiempo\"]\n",
    "salida = a[\"Salida\"]\n",
    "escalon = a[\"Referencia\"]\n",
    "\n",
    "plt.plot(a[\"Tiempo\"],a[\"Referencia\"],  \n",
    "         a[\"Tiempo\"],1*a[\"Salida\"])  "
   ]
  },
  {
   "cell_type": "markdown",
   "id": "b4563319",
   "metadata": {},
   "source": [
    "En la práctica comenzamos a poner valores de K en 1, nuestro sistema arranca en el segundo 20 y se logra estabilizar antes de llegar a el segundo 40 "
   ]
  },
  {
   "cell_type": "code",
   "execution_count": 13,
   "id": "fa86c313",
   "metadata": {},
   "outputs": [
    {
     "data": {
      "text/html": [
       "<div>\n",
       "<style scoped>\n",
       "    .dataframe tbody tr th:only-of-type {\n",
       "        vertical-align: middle;\n",
       "    }\n",
       "\n",
       "    .dataframe tbody tr th {\n",
       "        vertical-align: top;\n",
       "    }\n",
       "\n",
       "    .dataframe thead th {\n",
       "        text-align: right;\n",
       "    }\n",
       "</style>\n",
       "<table border=\"1\" class=\"dataframe\">\n",
       "  <thead>\n",
       "    <tr style=\"text-align: right;\">\n",
       "      <th></th>\n",
       "      <th>Tiempo</th>\n",
       "      <th>Referencia</th>\n",
       "      <th>Error</th>\n",
       "      <th>Señal de control</th>\n",
       "      <th>Salida</th>\n",
       "    </tr>\n",
       "  </thead>\n",
       "  <tbody>\n",
       "    <tr>\n",
       "      <th>0</th>\n",
       "      <td>0.0</td>\n",
       "      <td>20</td>\n",
       "      <td>20.012661</td>\n",
       "      <td>100.063306</td>\n",
       "      <td>-0.012661</td>\n",
       "    </tr>\n",
       "    <tr>\n",
       "      <th>1</th>\n",
       "      <td>1.0</td>\n",
       "      <td>20</td>\n",
       "      <td>20.011213</td>\n",
       "      <td>100.056067</td>\n",
       "      <td>-0.011213</td>\n",
       "    </tr>\n",
       "    <tr>\n",
       "      <th>2</th>\n",
       "      <td>2.0</td>\n",
       "      <td>20</td>\n",
       "      <td>19.033849</td>\n",
       "      <td>95.169245</td>\n",
       "      <td>0.966151</td>\n",
       "    </tr>\n",
       "    <tr>\n",
       "      <th>3</th>\n",
       "      <td>3.0</td>\n",
       "      <td>20</td>\n",
       "      <td>18.696477</td>\n",
       "      <td>93.482386</td>\n",
       "      <td>1.303523</td>\n",
       "    </tr>\n",
       "    <tr>\n",
       "      <th>4</th>\n",
       "      <td>4.0</td>\n",
       "      <td>20</td>\n",
       "      <td>17.936305</td>\n",
       "      <td>89.681525</td>\n",
       "      <td>2.063695</td>\n",
       "    </tr>\n",
       "    <tr>\n",
       "      <th>...</th>\n",
       "      <td>...</td>\n",
       "      <td>...</td>\n",
       "      <td>...</td>\n",
       "      <td>...</td>\n",
       "      <td>...</td>\n",
       "    </tr>\n",
       "    <tr>\n",
       "      <th>56</th>\n",
       "      <td>56.0</td>\n",
       "      <td>80</td>\n",
       "      <td>61.891602</td>\n",
       "      <td>309.458010</td>\n",
       "      <td>18.108398</td>\n",
       "    </tr>\n",
       "    <tr>\n",
       "      <th>57</th>\n",
       "      <td>57.0</td>\n",
       "      <td>80</td>\n",
       "      <td>61.937936</td>\n",
       "      <td>309.689681</td>\n",
       "      <td>18.062064</td>\n",
       "    </tr>\n",
       "    <tr>\n",
       "      <th>58</th>\n",
       "      <td>58.0</td>\n",
       "      <td>80</td>\n",
       "      <td>61.978479</td>\n",
       "      <td>309.892394</td>\n",
       "      <td>18.021521</td>\n",
       "    </tr>\n",
       "    <tr>\n",
       "      <th>59</th>\n",
       "      <td>59.0</td>\n",
       "      <td>80</td>\n",
       "      <td>62.008886</td>\n",
       "      <td>310.044428</td>\n",
       "      <td>17.991114</td>\n",
       "    </tr>\n",
       "    <tr>\n",
       "      <th>60</th>\n",
       "      <td>60.0</td>\n",
       "      <td>80</td>\n",
       "      <td>62.023365</td>\n",
       "      <td>310.116826</td>\n",
       "      <td>17.976635</td>\n",
       "    </tr>\n",
       "  </tbody>\n",
       "</table>\n",
       "<p>61 rows × 5 columns</p>\n",
       "</div>"
      ],
      "text/plain": [
       "    Tiempo  Referencia      Error  Señal de control     Salida\n",
       "0      0.0          20  20.012661        100.063306  -0.012661\n",
       "1      1.0          20  20.011213        100.056067  -0.011213\n",
       "2      2.0          20  19.033849         95.169245   0.966151\n",
       "3      3.0          20  18.696477         93.482386   1.303523\n",
       "4      4.0          20  17.936305         89.681525   2.063695\n",
       "..     ...         ...        ...               ...        ...\n",
       "56    56.0          80  61.891602        309.458010  18.108398\n",
       "57    57.0          80  61.937936        309.689681  18.062064\n",
       "58    58.0          80  61.978479        309.892394  18.021521\n",
       "59    59.0          80  62.008886        310.044428  17.991114\n",
       "60    60.0          80  62.023365        310.116826  17.976635\n",
       "\n",
       "[61 rows x 5 columns]"
      ]
     },
     "execution_count": 13,
     "metadata": {},
     "output_type": "execute_result"
    }
   ],
   "source": [
    "a1 = pd.read_csv('C:\\\\Users\\\\jgall\\\\OneDrive\\\\Documentos\\\\ControlAnalogo\\\\Simon2.csv')\n",
    "a1"
   ]
  },
  {
   "cell_type": "markdown",
   "id": "7466ae73",
   "metadata": {},
   "source": [
    "segunda toma experimental variando k"
   ]
  },
  {
   "cell_type": "code",
   "execution_count": 14,
   "id": "010bf494",
   "metadata": {},
   "outputs": [
    {
     "data": {
      "text/plain": [
       "[<matplotlib.lines.Line2D at 0x188cfe1f970>,\n",
       " <matplotlib.lines.Line2D at 0x188cfe1fa90>]"
      ]
     },
     "execution_count": 14,
     "metadata": {},
     "output_type": "execute_result"
    },
    {
     "data": {
      "image/png": "[encoded data removed]",
      "text/plain": [
       "<Figure size 720x288 with 1 Axes>"
      ]
     },
     "metadata": {
      "needs_background": "light"
     },
     "output_type": "display_data"
    }
   ],
   "source": [
    "plt.plot(a1[\"Tiempo\"],a1[\"Referencia\"],  \n",
    "         a1[\"Tiempo\"],1*a1[\"Salida\"])  "
   ]
  },
  {
   "cell_type": "code",
   "execution_count": 15,
   "id": "4e09c208",
   "metadata": {},
   "outputs": [
    {
     "data": {
      "text/html": [
       "<div>\n",
       "<style scoped>\n",
       "    .dataframe tbody tr th:only-of-type {\n",
       "        vertical-align: middle;\n",
       "    }\n",
       "\n",
       "    .dataframe tbody tr th {\n",
       "        vertical-align: top;\n",
       "    }\n",
       "\n",
       "    .dataframe thead th {\n",
       "        text-align: right;\n",
       "    }\n",
       "</style>\n",
       "<table border=\"1\" class=\"dataframe\">\n",
       "  <thead>\n",
       "    <tr style=\"text-align: right;\">\n",
       "      <th></th>\n",
       "      <th>Tiempo</th>\n",
       "      <th>Referencia</th>\n",
       "      <th>Error</th>\n",
       "      <th>Señal de control</th>\n",
       "      <th>Salida</th>\n",
       "    </tr>\n",
       "  </thead>\n",
       "  <tbody>\n",
       "    <tr>\n",
       "      <th>0</th>\n",
       "      <td>0.0</td>\n",
       "      <td>20</td>\n",
       "      <td>20.011213</td>\n",
       "      <td>200.112133</td>\n",
       "      <td>-0.011213</td>\n",
       "    </tr>\n",
       "    <tr>\n",
       "      <th>1</th>\n",
       "      <td>1.0</td>\n",
       "      <td>20</td>\n",
       "      <td>20.014109</td>\n",
       "      <td>200.141092</td>\n",
       "      <td>-0.014109</td>\n",
       "    </tr>\n",
       "    <tr>\n",
       "      <th>2</th>\n",
       "      <td>2.0</td>\n",
       "      <td>20</td>\n",
       "      <td>20.014109</td>\n",
       "      <td>200.141092</td>\n",
       "      <td>-0.014109</td>\n",
       "    </tr>\n",
       "    <tr>\n",
       "      <th>3</th>\n",
       "      <td>3.0</td>\n",
       "      <td>20</td>\n",
       "      <td>20.019901</td>\n",
       "      <td>200.199010</td>\n",
       "      <td>-0.019901</td>\n",
       "    </tr>\n",
       "    <tr>\n",
       "      <th>4</th>\n",
       "      <td>4.0</td>\n",
       "      <td>20</td>\n",
       "      <td>18.699373</td>\n",
       "      <td>186.993732</td>\n",
       "      <td>1.300627</td>\n",
       "    </tr>\n",
       "    <tr>\n",
       "      <th>...</th>\n",
       "      <td>...</td>\n",
       "      <td>...</td>\n",
       "      <td>...</td>\n",
       "      <td>...</td>\n",
       "      <td>...</td>\n",
       "    </tr>\n",
       "    <tr>\n",
       "      <th>56</th>\n",
       "      <td>56.0</td>\n",
       "      <td>80</td>\n",
       "      <td>62.087075</td>\n",
       "      <td>620.870748</td>\n",
       "      <td>17.912925</td>\n",
       "    </tr>\n",
       "    <tr>\n",
       "      <th>57</th>\n",
       "      <td>57.0</td>\n",
       "      <td>80</td>\n",
       "      <td>62.095762</td>\n",
       "      <td>620.957625</td>\n",
       "      <td>17.904238</td>\n",
       "    </tr>\n",
       "    <tr>\n",
       "      <th>58</th>\n",
       "      <td>58.0</td>\n",
       "      <td>80</td>\n",
       "      <td>62.118930</td>\n",
       "      <td>621.189296</td>\n",
       "      <td>17.881070</td>\n",
       "    </tr>\n",
       "    <tr>\n",
       "      <th>59</th>\n",
       "      <td>59.0</td>\n",
       "      <td>80</td>\n",
       "      <td>62.124721</td>\n",
       "      <td>621.247214</td>\n",
       "      <td>17.875279</td>\n",
       "    </tr>\n",
       "    <tr>\n",
       "      <th>60</th>\n",
       "      <td>60.0</td>\n",
       "      <td>80</td>\n",
       "      <td>62.159472</td>\n",
       "      <td>621.594721</td>\n",
       "      <td>17.840528</td>\n",
       "    </tr>\n",
       "  </tbody>\n",
       "</table>\n",
       "<p>61 rows × 5 columns</p>\n",
       "</div>"
      ],
      "text/plain": [
       "    Tiempo  Referencia      Error  Señal de control     Salida\n",
       "0      0.0          20  20.011213        200.112133  -0.011213\n",
       "1      1.0          20  20.014109        200.141092  -0.014109\n",
       "2      2.0          20  20.014109        200.141092  -0.014109\n",
       "3      3.0          20  20.019901        200.199010  -0.019901\n",
       "4      4.0          20  18.699373        186.993732   1.300627\n",
       "..     ...         ...        ...               ...        ...\n",
       "56    56.0          80  62.087075        620.870748  17.912925\n",
       "57    57.0          80  62.095762        620.957625  17.904238\n",
       "58    58.0          80  62.118930        621.189296  17.881070\n",
       "59    59.0          80  62.124721        621.247214  17.875279\n",
       "60    60.0          80  62.159472        621.594721  17.840528\n",
       "\n",
       "[61 rows x 5 columns]"
      ]
     },
     "execution_count": 15,
     "metadata": {},
     "output_type": "execute_result"
    }
   ],
   "source": [
    "a2 = pd.read_csv('C:\\\\Users\\\\jgall\\\\OneDrive\\\\Documentos\\\\ControlAnalogo\\\\Simon3.csv')\n",
    "a2"
   ]
  },
  {
   "cell_type": "code",
   "execution_count": 16,
   "id": "666a2501",
   "metadata": {},
   "outputs": [
    {
     "data": {
      "text/plain": [
       "[<matplotlib.lines.Line2D at 0x188cfe943a0>,\n",
       " <matplotlib.lines.Line2D at 0x188cfe944c0>]"
      ]
     },
     "execution_count": 16,
     "metadata": {},
     "output_type": "execute_result"
    },
    {
     "data": {
      "image/png": "[encoded data removed]",
      "text/plain": [
       "<Figure size 720x288 with 1 Axes>"
      ]
     },
     "metadata": {
      "needs_background": "light"
     },
     "output_type": "display_data"
    }
   ],
   "source": [
    "plt.plot(a2[\"Tiempo\"],a2[\"Referencia\"],  \n",
    "         a2[\"Tiempo\"],1*a2[\"Salida\"])  "
   ]
  },
  {
   "cell_type": "markdown",
   "id": "b5bddcd7",
   "metadata": {},
   "source": [
    "# Observación "
   ]
  },
  {
   "cell_type": "markdown",
   "id": "451f9fba",
   "metadata": {},
   "source": [
    "En esta práctica vemos que nuestros sistemas mientras más se aumenta el valor de k el sistema se estabiliza más rápido y su comportamiento no cambia ósea no se vuelve inestable, se ve que los polos a medida que se aumenta el K se mueven hacia la izquierda donde son más negativos.\n",
    "\n",
    "Al compara nuestro modelo obtenido en el laboratorio al cerrar el lazo vemos que se obtiene buenos resultados a la hora de estabilizar el sistema, muy similar a lo que se obtuvo mediante el programa donde se realizó la simulación y vemos como Los polos del sistema en lazo cerrado dependen de qué valor tome 𝑘𝑐\n"
   ]
  }
 ],
 "metadata": {
  "kernelspec": {
   "display_name": "Python 3 (ipykernel)",
   "language": "python",
   "name": "python3"
  },
  "language_info": {
   "codemirror_mode": {
    "name": "ipython",
    "version": 3
   },
   "file_extension": ".py",
   "mimetype": "text/x-python",
   "name": "python",
   "nbconvert_exporter": "python",
   "pygments_lexer": "ipython3",
   "version": "3.9.7"
  }
 },
 "nbformat": 4,
 "nbformat_minor": 5
}
