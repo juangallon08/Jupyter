{
 "cells": [
  {
   "cell_type": "code",
   "execution_count": 2,
   "id": "1889dacc",
   "metadata": {},
   "outputs": [],
   "source": [
    "\n",
    "import pandas as pd \n",
    "import matplotlib.pyplot as plt \n",
    "import tbcontrol\n",
    "import control\n",
    "import numpy as np\n",
    "tbcontrol.expectversion(\"0.1.10\")\n",
    "%matplotlib inline\n",
    "import scipy.optimize\n",
    "from tbcontrol.responses import fopdt, sopdt\n",
    "from ipywidgets import interact\n"
   ]
  },
  {
   "cell_type": "markdown",
   "id": "7f74dcdf",
   "metadata": {},
   "source": [
    "lugar de las raicez para la primer toma de datos \n"
   ]
  },
  {
   "cell_type": "code",
   "execution_count": 3,
   "id": "9b0edce2",
   "metadata": {},
   "outputs": [
    {
     "data": {
      "text/html": [
       "<div>\n",
       "<style scoped>\n",
       "    .dataframe tbody tr th:only-of-type {\n",
       "        vertical-align: middle;\n",
       "    }\n",
       "\n",
       "    .dataframe tbody tr th {\n",
       "        vertical-align: top;\n",
       "    }\n",
       "\n",
       "    .dataframe thead th {\n",
       "        text-align: right;\n",
       "    }\n",
       "</style>\n",
       "<table border=\"1\" class=\"dataframe\">\n",
       "  <thead>\n",
       "    <tr style=\"text-align: right;\">\n",
       "      <th></th>\n",
       "      <th>Tiempo</th>\n",
       "      <th>Referencia</th>\n",
       "      <th>Error</th>\n",
       "      <th>Señal de control</th>\n",
       "      <th>Salida</th>\n",
       "    </tr>\n",
       "  </thead>\n",
       "  <tbody>\n",
       "    <tr>\n",
       "      <th>0</th>\n",
       "      <td>0.0</td>\n",
       "      <td>20</td>\n",
       "      <td>20.015557</td>\n",
       "      <td>20.015557</td>\n",
       "      <td>-0.015557</td>\n",
       "    </tr>\n",
       "    <tr>\n",
       "      <th>1</th>\n",
       "      <td>1.0</td>\n",
       "      <td>20</td>\n",
       "      <td>20.015557</td>\n",
       "      <td>20.015557</td>\n",
       "      <td>-0.015557</td>\n",
       "    </tr>\n",
       "    <tr>\n",
       "      <th>2</th>\n",
       "      <td>2.0</td>\n",
       "      <td>20</td>\n",
       "      <td>20.012661</td>\n",
       "      <td>20.012661</td>\n",
       "      <td>-0.012661</td>\n",
       "    </tr>\n",
       "    <tr>\n",
       "      <th>3</th>\n",
       "      <td>3.0</td>\n",
       "      <td>20</td>\n",
       "      <td>20.014109</td>\n",
       "      <td>20.014109</td>\n",
       "      <td>-0.014109</td>\n",
       "    </tr>\n",
       "    <tr>\n",
       "      <th>4</th>\n",
       "      <td>4.0</td>\n",
       "      <td>20</td>\n",
       "      <td>18.723988</td>\n",
       "      <td>18.723988</td>\n",
       "      <td>1.276012</td>\n",
       "    </tr>\n",
       "    <tr>\n",
       "      <th>...</th>\n",
       "      <td>...</td>\n",
       "      <td>...</td>\n",
       "      <td>...</td>\n",
       "      <td>...</td>\n",
       "      <td>...</td>\n",
       "    </tr>\n",
       "    <tr>\n",
       "      <th>116</th>\n",
       "      <td>116.0</td>\n",
       "      <td>80</td>\n",
       "      <td>64.719443</td>\n",
       "      <td>64.719443</td>\n",
       "      <td>15.280557</td>\n",
       "    </tr>\n",
       "    <tr>\n",
       "      <th>117</th>\n",
       "      <td>117.0</td>\n",
       "      <td>80</td>\n",
       "      <td>64.733922</td>\n",
       "      <td>64.733922</td>\n",
       "      <td>15.266078</td>\n",
       "    </tr>\n",
       "    <tr>\n",
       "      <th>118</th>\n",
       "      <td>118.0</td>\n",
       "      <td>80</td>\n",
       "      <td>64.744058</td>\n",
       "      <td>64.744058</td>\n",
       "      <td>15.255942</td>\n",
       "    </tr>\n",
       "    <tr>\n",
       "      <th>119</th>\n",
       "      <td>119.0</td>\n",
       "      <td>80</td>\n",
       "      <td>64.728130</td>\n",
       "      <td>64.728130</td>\n",
       "      <td>15.271870</td>\n",
       "    </tr>\n",
       "    <tr>\n",
       "      <th>120</th>\n",
       "      <td>120.0</td>\n",
       "      <td>80</td>\n",
       "      <td>64.720891</td>\n",
       "      <td>64.720891</td>\n",
       "      <td>15.279109</td>\n",
       "    </tr>\n",
       "  </tbody>\n",
       "</table>\n",
       "<p>121 rows × 5 columns</p>\n",
       "</div>"
      ],
      "text/plain": [
       "     Tiempo  Referencia      Error  Señal de control     Salida\n",
       "0       0.0          20  20.015557         20.015557  -0.015557\n",
       "1       1.0          20  20.015557         20.015557  -0.015557\n",
       "2       2.0          20  20.012661         20.012661  -0.012661\n",
       "3       3.0          20  20.014109         20.014109  -0.014109\n",
       "4       4.0          20  18.723988         18.723988   1.276012\n",
       "..      ...         ...        ...               ...        ...\n",
       "116   116.0          80  64.719443         64.719443  15.280557\n",
       "117   117.0          80  64.733922         64.733922  15.266078\n",
       "118   118.0          80  64.744058         64.744058  15.255942\n",
       "119   119.0          80  64.728130         64.728130  15.271870\n",
       "120   120.0          80  64.720891         64.720891  15.279109\n",
       "\n",
       "[121 rows x 5 columns]"
      ]
     },
     "execution_count": 3,
     "metadata": {},
     "output_type": "execute_result"
    }
   ],
   "source": [
    "a0 = pd.read_csv('C:\\\\Users\\\\jgall\\\\OneDrive\\\\Documentos\\\\ControlAnalogo\\\\simon1.csv')\n",
    "a = a0 ##[a0['Tiempo'] > 19 ] \n",
    "a"
   ]
  },
  {
   "cell_type": "code",
   "execution_count": 4,
   "id": "ab653d52",
   "metadata": {},
   "outputs": [],
   "source": [
    "time = a[\"Tiempo\"]\n",
    "salida = a[\"Salida\"]\n",
    "escalon = a[\"Referencia\"]"
   ]
  },
  {
   "cell_type": "code",
   "execution_count": 5,
   "id": "b763eb50",
   "metadata": {},
   "outputs": [
    {
     "data": {
      "text/plain": [
       "Text(0, 0.5, 'caudal')"
      ]
     },
     "execution_count": 5,
     "metadata": {},
     "output_type": "execute_result"
    },
    {
     "data": {
      "image/png": "[encoded data removed]",
      "text/plain": [
       "<Figure size 432x288 with 1 Axes>"
      ]
     },
     "metadata": {
      "needs_background": "light"
     },
     "output_type": "display_data"
    }
   ],
   "source": [
    "plt.plot(time,salida)\n",
    "plt.xlabel(\"tiempo\")\n",
    "plt.ylabel(\"caudal\")"
   ]
  },
  {
   "cell_type": "code",
   "execution_count": 6,
   "id": "4d1f8d87",
   "metadata": {},
   "outputs": [
    {
     "data": {
      "text/plain": [
       "Text(0, 0.5, 'escalon')"
      ]
     },
     "execution_count": 6,
     "metadata": {},
     "output_type": "execute_result"
    },
    {
     "data": {
      "image/png": "[encoded data removed]",
      "text/plain": [
       "<Figure size 432x288 with 1 Axes>"
      ]
     },
     "metadata": {
      "needs_background": "light"
     },
     "output_type": "display_data"
    }
   ],
   "source": [
    "plt.plot(time,escalon)\n",
    "plt.xlabel(\"tiempo\")\n",
    "plt.ylabel(\"escalon\")"
   ]
  },
  {
   "cell_type": "code",
   "execution_count": 7,
   "id": "8a163e36",
   "metadata": {},
   "outputs": [
    {
     "data": {
      "text/plain": [
       "[<matplotlib.lines.Line2D at 0x1680308ef10>,\n",
       " <matplotlib.lines.Line2D at 0x1680308eeb0>]"
      ]
     },
     "execution_count": 7,
     "metadata": {},
     "output_type": "execute_result"
    },
    {
     "data": {
      "image/png": "[encoded data removed]",
      "text/plain": [
       "<Figure size 432x288 with 1 Axes>"
      ]
     },
     "metadata": {
      "needs_background": "light"
     },
     "output_type": "display_data"
    }
   ],
   "source": [
    "plt.plot(a[\"Tiempo\"],a[\"Referencia\"],  \n",
    "         a[\"Tiempo\"],1*a[\"Salida\"])  "
   ]
  },
  {
   "cell_type": "code",
   "execution_count": 9,
   "id": "c8ce5821",
   "metadata": {},
   "outputs": [],
   "source": [
    "fopdt\n",
    "ts=np.linspace(0,100,1000)"
   ]
  },
  {
   "cell_type": "code",
   "execution_count": 10,
   "id": "298ec4a3",
   "metadata": {},
   "outputs": [],
   "source": [
    "def resultplot1(K, tau, theta, y0):\n",
    "    plt.figure(figsize=(20, 7))\n",
    "    plt.scatter(time,salida)\n",
    "    plt.plot(ts, fopdt(ts, K, tau, theta, y0), color='yellow')\n",
    "    plt.grid(True)"
   ]
  },
  {
   "cell_type": "code",
   "execution_count": 12,
   "id": "858afd79",
   "metadata": {},
   "outputs": [
    {
     "data": {
      "application/vnd.jupyter.widget-view+json": {
       "model_id": "d416caeeca324248b9f5114928d6438e",
       "version_major": 2,
       "version_minor": 0
      },
      "text/plain": [
       "interactive(children=(FloatSlider(value=50.0, description='K'), FloatSlider(value=50.0, description='tau'), Fl…"
      ]
     },
     "metadata": {},
     "output_type": "display_data"
    }
   ],
   "source": [
    "interact(resultplot1, \n",
    "         K=(0., 100.), \n",
    "         tau=(0., 100.), \n",
    "         theta=(0., 100.), \n",
    "         y0=(0., 20.));"
   ]
  },
  {
   "cell_type": "code",
   "execution_count": 13,
   "id": "45782d77",
   "metadata": {},
   "outputs": [],
   "source": [
    "k=13\n",
    "tau=4.05\n",
    "theta=1\n",
    "y0=3"
   ]
  },
  {
   "cell_type": "code",
   "execution_count": 14,
   "id": "365290dd",
   "metadata": {},
   "outputs": [
    {
     "data": {
      "text/plain": [
       "[12.656233594744494, 3.3340473583246935, 1.6906401799908923, 3.101149120467697]"
      ]
     },
     "execution_count": 14,
     "metadata": {},
     "output_type": "execute_result"
    }
   ],
   "source": [
    "[K, tau, theta, y0], _ = scipy.optimize.curve_fit(fopdt, time, salida, [k, tau, theta, y0])\n",
    "[K, tau, theta, y0]"
   ]
  },
  {
   "cell_type": "code",
   "execution_count": 15,
   "id": "4140d316",
   "metadata": {},
   "outputs": [],
   "source": [
    "Y_1orden = fopdt(time, k, tau, theta, y0)"
   ]
  },
  {
   "cell_type": "code",
   "execution_count": 16,
   "id": "a0562a2c",
   "metadata": {},
   "outputs": [
    {
     "name": "stderr",
     "output_type": "stream",
     "text": [
      "C:\\ProgramData\\Anaconda3\\lib\\site-packages\\tbcontrol\\responses.py:51: RuntimeWarning: invalid value encountered in sqrt\n",
      "  root = numpy.sqrt(1 - zeta**2)\n",
      "C:\\ProgramData\\Anaconda3\\lib\\site-packages\\pandas\\core\\arraylike.py:364: RuntimeWarning: overflow encountered in exp\n",
      "  result = getattr(ufunc, method)(*inputs, **kwargs)\n",
      "C:\\ProgramData\\Anaconda3\\lib\\site-packages\\pandas\\core\\arraylike.py:364: RuntimeWarning: overflow encountered in cosh\n",
      "  result = getattr(ufunc, method)(*inputs, **kwargs)\n",
      "C:\\ProgramData\\Anaconda3\\lib\\site-packages\\pandas\\core\\arraylike.py:364: RuntimeWarning: overflow encountered in sinh\n",
      "  result = getattr(ufunc, method)(*inputs, **kwargs)\n"
     ]
    },
    {
     "data": {
      "text/plain": [
       "[12.89589886115459,\n",
       " 2.7452586477086727,\n",
       " 0.8396159947878988,\n",
       " 0.0640589152069631,\n",
       " 2.8307120734402456]"
      ]
     },
     "execution_count": 16,
     "metadata": {},
     "output_type": "execute_result"
    }
   ],
   "source": [
    "p2_inicial = [2, 0.6, 2, 0.5, 10]\n",
    "[K_2, tau_2, zeta_2, theta_2, y0_2], pcov = scipy.optimize.curve_fit(sopdt, time, salida, p2_inicial)\n",
    "[K_2, tau_2, zeta_2, theta_2, y0_2]"
   ]
  },
  {
   "cell_type": "code",
   "execution_count": 17,
   "id": "d0599799",
   "metadata": {},
   "outputs": [
    {
     "data": {
      "text/plain": [
       "array([0.28852016, 0.20378258, 0.04096278, 0.27798752, 0.28776455])"
      ]
     },
     "execution_count": 17,
     "metadata": {},
     "output_type": "execute_result"
    }
   ],
   "source": [
    "perr = np.sqrt(np.diag(pcov))\n",
    "perr"
   ]
  },
  {
   "cell_type": "code",
   "execution_count": 18,
   "id": "1c907c8d",
   "metadata": {},
   "outputs": [
    {
     "data": {
      "image/png": "[encoded data removed]",
      "text/plain": [
       "<Figure size 1512x504 with 1 Axes>"
      ]
     },
     "metadata": {
      "needs_background": "light"
     },
     "output_type": "display_data"
    }
   ],
   "source": [
    "plt.figure(figsize=(21, 7))\n",
    "plt.scatter(time, salida, label='Data')\n",
    "plt.plot(time, Y_1orden, color='red', label='ajuste orden 1')\n",
    "plt.legend(loc='best')\n",
    "plt.grid(True)"
   ]
  },
  {
   "cell_type": "code",
   "execution_count": 19,
   "id": "d425ad4d",
   "metadata": {},
   "outputs": [
    {
     "data": {
      "text/latex": [
       "$$\\frac{13}{3.334 s + 1}$$"
      ],
      "text/plain": [
       "TransferFunction(array([13]), array([3.33404736, 1.        ]))"
      ]
     },
     "execution_count": 19,
     "metadata": {},
     "output_type": "execute_result"
    }
   ],
   "source": [
    "# Se define la función de transferencia del proceso\n",
    "Gp = control.tf([k], [tau, 1])\n",
    "Gp\n"
   ]
  },
  {
   "cell_type": "code",
   "execution_count": 20,
   "id": "233b1179",
   "metadata": {},
   "outputs": [
    {
     "data": {
      "text/plain": [
       "array([-0.29993575])"
      ]
     },
     "execution_count": 20,
     "metadata": {},
     "output_type": "execute_result"
    }
   ],
   "source": [
    "# Se hallan los polos del proceso\n",
    "polos = Gp.pole()\n",
    "polos"
   ]
  },
  {
   "cell_type": "code",
   "execution_count": 21,
   "id": "21aaffbe",
   "metadata": {},
   "outputs": [
    {
     "data": {
      "text/plain": [
       "array([], dtype=float64)"
      ]
     },
     "execution_count": 21,
     "metadata": {},
     "output_type": "execute_result"
    }
   ],
   "source": [
    "# Se hallan los ceros del proceso\n",
    "ceros = Gp.zero()\n",
    "ceros"
   ]
  },
  {
   "cell_type": "code",
   "execution_count": 22,
   "id": "9f0aa2ec",
   "metadata": {},
   "outputs": [
    {
     "data": {
      "image/png": "[encoded data removed]",
      "text/plain": [
       "<Figure size 432x288 with 1 Axes>"
      ]
     },
     "metadata": {
      "needs_background": "light"
     },
     "output_type": "display_data"
    }
   ],
   "source": [
    "# Se grafica el mapa de polos y ceros\n",
    "control.pzmap(Gp)\n",
    "plt.grid(True)"
   ]
  },
  {
   "cell_type": "code",
   "execution_count": null,
   "id": "f5a8e201",
   "metadata": {},
   "outputs": [],
   "source": []
  }
 ],
 "metadata": {
  "kernelspec": {
   "display_name": "Python 3 (ipykernel)",
   "language": "python",
   "name": "python3"
  },
  "language_info": {
   "codemirror_mode": {
    "name": "ipython",
    "version": 3
   },
   "file_extension": ".py",
   "mimetype": "text/x-python",
   "name": "python",
   "nbconvert_exporter": "python",
   "pygments_lexer": "ipython3",
   "version": "3.9.7"
  }
 },
 "nbformat": 4,
 "nbformat_minor": 5
}
