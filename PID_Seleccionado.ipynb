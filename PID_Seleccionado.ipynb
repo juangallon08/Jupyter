{
 "cells": [
  {
   "cell_type": "code",
   "execution_count": 3,
   "id": "f20a9e40",
   "metadata": {},
   "outputs": [],
   "source": [
    "import sympy \n",
    "sympy.init_printing()\n",
    "%matplotlib inline\n",
    "\n",
    "import pandas as pd\n",
    "import numpy as np\n",
    "import matplotlib.pyplot as plt\n",
    "import control\n",
    "\n",
    "\n",
    "import scipy.optimize\n",
    "from tbcontrol.responses import fopdt, sopdt\n",
    "from ipywidgets import interact\n",
    "\n",
    "def resultplot1(K, tau, theta, y0):\n",
    "    plt.figure(figsize=(21, 7))\n",
    "    plt.scatter(ts, ym)\n",
    "    plt.plot(ts, fopdt(ts, K, tau, theta, y0), color='red')\n",
    "    plt.grid(True)\n",
    "\n",
    "def resultplot2(K, tau, zeta, theta, y0):\n",
    "    plt.figure(figsize=(21, 7))\n",
    "    plt.scatter(ts, ym)\n",
    "    plt.plot(ts, sopdt(ts, K, tau, zeta,theta, y0), color='red')\n",
    "    plt.grid(True)\n",
    "    \n"
   ]
  },
  {
   "cell_type": "markdown",
   "id": "1754c03a",
   "metadata": {},
   "source": [
    "## Diseño directo\n",
    "\n",
    "Esta técnica parte del supuesto de definir el comportamiento deseado para el sistema en lazo cerrado, escribir una función de transferencia de lazo cerrado de una forma apropiada y despejar el compensador"
   ]
  },
  {
   "cell_type": "code",
   "execution_count": 4,
   "id": "19047beb",
   "metadata": {},
   "outputs": [
    {
     "data": {
      "text/latex": [
       "$$\\frac{0.27}{4.489 s + 1}$$"
      ],
      "text/plain": [
       "TransferFunction(array([0.27]), array([4.489, 1.   ]))"
      ]
     },
     "execution_count": 4,
     "metadata": {},
     "output_type": "execute_result"
    }
   ],
   "source": [
    "GP = control.tf([0.27], [4.489, 1])\n",
    "GP"
   ]
  },
  {
   "cell_type": "code",
   "execution_count": 5,
   "id": "332519e3",
   "metadata": {},
   "outputs": [
    {
     "data": {
      "text/html": [
       "<div>\n",
       "<style scoped>\n",
       "    .dataframe tbody tr th:only-of-type {\n",
       "        vertical-align: middle;\n",
       "    }\n",
       "\n",
       "    .dataframe tbody tr th {\n",
       "        vertical-align: top;\n",
       "    }\n",
       "\n",
       "    .dataframe thead th {\n",
       "        text-align: right;\n",
       "    }\n",
       "</style>\n",
       "<table border=\"1\" class=\"dataframe\">\n",
       "  <thead>\n",
       "    <tr style=\"text-align: right;\">\n",
       "      <th></th>\n",
       "      <th>Tiempo</th>\n",
       "      <th>Entrada</th>\n",
       "      <th>Salida</th>\n",
       "    </tr>\n",
       "  </thead>\n",
       "  <tbody>\n",
       "    <tr>\n",
       "      <th>39</th>\n",
       "      <td>19.5</td>\n",
       "      <td>20</td>\n",
       "      <td>6.785451</td>\n",
       "    </tr>\n",
       "    <tr>\n",
       "      <th>40</th>\n",
       "      <td>20.0</td>\n",
       "      <td>80</td>\n",
       "      <td>6.755044</td>\n",
       "    </tr>\n",
       "    <tr>\n",
       "      <th>41</th>\n",
       "      <td>20.5</td>\n",
       "      <td>80</td>\n",
       "      <td>6.724637</td>\n",
       "    </tr>\n",
       "    <tr>\n",
       "      <th>42</th>\n",
       "      <td>21.0</td>\n",
       "      <td>80</td>\n",
       "      <td>7.552863</td>\n",
       "    </tr>\n",
       "    <tr>\n",
       "      <th>43</th>\n",
       "      <td>21.5</td>\n",
       "      <td>80</td>\n",
       "      <td>9.080447</td>\n",
       "    </tr>\n",
       "  </tbody>\n",
       "</table>\n",
       "</div>"
      ],
      "text/plain": [
       "    Tiempo  Entrada    Salida\n",
       "39    19.5       20  6.785451\n",
       "40    20.0       80  6.755044\n",
       "41    20.5       80  6.724637\n",
       "42    21.0       80  7.552863\n",
       "43    21.5       80  9.080447"
      ]
     },
     "execution_count": 5,
     "metadata": {},
     "output_type": "execute_result"
    }
   ],
   "source": [
    "a0= pd.read_csv('C:\\\\Users\\\\jgall\\\\OneDrive\\\\Documentos\\\\ControlAnalogo\\\\DatosJS.csv')\n",
    "df = a0 [a0['Tiempo'] > 19] \n",
    "df.head()"
   ]
  },
  {
   "cell_type": "code",
   "execution_count": 6,
   "id": "e3e44d4d",
   "metadata": {},
   "outputs": [
    {
     "data": {
      "application/vnd.jupyter.widget-view+json": {
       "model_id": "10e5b60a25fa4b01b91fc0e30088e7ae",
       "version_major": 2,
       "version_minor": 0
      },
      "text/plain": [
       "interactive(children=(FloatSlider(value=10.0, description='K', max=20.0), FloatSlider(value=10.0, description=…"
      ]
     },
     "metadata": {},
     "output_type": "display_data"
    }
   ],
   "source": [
    "ym = df.Salida-20\n",
    "ts = df.Tiempo-20\n",
    "interact(resultplot2, K=(0.0, 20.0), tau=(0., 20.), \n",
    "         theta=(0., 20.), zeta = (0, 20.0), y0=(-20., 20.));"
   ]
  },
  {
   "cell_type": "code",
   "execution_count": 7,
   "id": "469b9b85",
   "metadata": {},
   "outputs": [
    {
     "name": "stderr",
     "output_type": "stream",
     "text": [
      "C:\\ProgramData\\Anaconda3\\lib\\site-packages\\IPython\\lib\\latextools.py:126: MatplotlibDeprecationWarning: \n",
      "The to_png function was deprecated in Matplotlib 3.4 and will be removed two minor releases later. Use mathtext.math_to_image instead.\n",
      "  mt.to_png(f, s, fontsize=12, dpi=dpi, color=color)\n",
      "C:\\ProgramData\\Anaconda3\\lib\\site-packages\\IPython\\lib\\latextools.py:126: MatplotlibDeprecationWarning: \n",
      "The to_rgba function was deprecated in Matplotlib 3.4 and will be removed two minor releases later. Use mathtext.math_to_image instead.\n",
      "  mt.to_png(f, s, fontsize=12, dpi=dpi, color=color)\n",
      "C:\\ProgramData\\Anaconda3\\lib\\site-packages\\IPython\\lib\\latextools.py:126: MatplotlibDeprecationWarning: \n",
      "The to_mask function was deprecated in Matplotlib 3.4 and will be removed two minor releases later. Use mathtext.math_to_image instead.\n",
      "  mt.to_png(f, s, fontsize=12, dpi=dpi, color=color)\n",
      "C:\\ProgramData\\Anaconda3\\lib\\site-packages\\IPython\\lib\\latextools.py:126: MatplotlibDeprecationWarning: \n",
      "The MathtextBackendBitmap class was deprecated in Matplotlib 3.4 and will be removed two minor releases later. Use mathtext.math_to_image instead.\n",
      "  mt.to_png(f, s, fontsize=12, dpi=dpi, color=color)\n"
     ]
    },
    {
     "data": {
      "image/png": "[encoded data removed]",
      "text/latex": [
       "$\\displaystyle \\left[ 16.416497595946, \\  1.37318975615317, \\  1.76497091283592, \\  0.444483119669349, \\  -13.2504586577646\\right]$"
      ],
      "text/plain": [
       "[16.416497595945994, 1.3731897561531667, 1.7649709128359177, 0.444483119669349\n",
       "4, -13.250458657764632]"
      ]
     },
     "execution_count": 7,
     "metadata": {},
     "output_type": "execute_result"
    }
   ],
   "source": [
    "p_inicial = [16.4, 2, 1.3, 0.0, -13.3]\n",
    "[K_1, tau_1, zeta_1, theta_1, y0_1], pcov = scipy.optimize.curve_fit(sopdt, ts, ym, p_inicial)\n",
    "[K_1, tau_1, zeta_1, theta_1, y0_1]"
   ]
  },
  {
   "cell_type": "code",
   "execution_count": 8,
   "id": "dee06750",
   "metadata": {},
   "outputs": [
    {
     "data": {
      "image/png": "[encoded data removed]",
      "text/latex": [
       "$\\displaystyle 0.273608293265767$"
      ],
      "text/plain": [
       "0.2736082932657666"
      ]
     },
     "execution_count": 8,
     "metadata": {},
     "output_type": "execute_result"
    }
   ],
   "source": [
    "k_11=K_1/60\n",
    "k_11"
   ]
  },
  {
   "cell_type": "markdown",
   "id": "44995f30",
   "metadata": {},
   "source": [
    "Observe que el k_1 es dividido entre 60, esto se debe a que a la hora de seleccionar la función de transferencia del sistema, nuestra ganancia funciona bien en una escalón de 0 a 1, teniendo esto en cuenta la ganancia se tiene que ajustar para desarrollar un buen controlador según el escalón propuesto. "
   ]
  },
  {
   "cell_type": "code",
   "execution_count": 9,
   "id": "a63391b0",
   "metadata": {},
   "outputs": [
    {
     "data": {
      "text/latex": [
       "$$\\frac{-0.27 s + 1.215}{4.489 s^2 + 21.2 s + 4.5}$$"
      ],
      "text/plain": [
       "TransferFunction(array([-0.27      ,  1.21489428]), array([ 4.489     , 21.19874232,  4.49960845]))"
      ]
     },
     "execution_count": 9,
     "metadata": {},
     "output_type": "execute_result"
    }
   ],
   "source": [
    "n_pade,d_pade = control.pade(theta_1,1)\n",
    "GPP_pade = control.tf([0.27],[4.489,1])*control.tf(n_pade,d_pade)\n",
    "GPP_pade"
   ]
  },
  {
   "cell_type": "code",
   "execution_count": 15,
   "id": "7aebd947",
   "metadata": {},
   "outputs": [],
   "source": [
    "tauC = 3"
   ]
  },
  {
   "cell_type": "markdown",
   "id": "20a8d8d7",
   "metadata": {},
   "source": [
    "Se calculan los parámetros del PID"
   ]
  },
  {
   "cell_type": "code",
   "execution_count": 16,
   "id": "673c0a93",
   "metadata": {},
   "outputs": [
    {
     "name": "stderr",
     "output_type": "stream",
     "text": [
      "C:\\ProgramData\\Anaconda3\\lib\\site-packages\\IPython\\lib\\latextools.py:126: MatplotlibDeprecationWarning: \n",
      "The to_png function was deprecated in Matplotlib 3.4 and will be removed two minor releases later. Use mathtext.math_to_image instead.\n",
      "  mt.to_png(f, s, fontsize=12, dpi=dpi, color=color)\n",
      "C:\\ProgramData\\Anaconda3\\lib\\site-packages\\IPython\\lib\\latextools.py:126: MatplotlibDeprecationWarning: \n",
      "The to_rgba function was deprecated in Matplotlib 3.4 and will be removed two minor releases later. Use mathtext.math_to_image instead.\n",
      "  mt.to_png(f, s, fontsize=12, dpi=dpi, color=color)\n",
      "C:\\ProgramData\\Anaconda3\\lib\\site-packages\\IPython\\lib\\latextools.py:126: MatplotlibDeprecationWarning: \n",
      "The to_mask function was deprecated in Matplotlib 3.4 and will be removed two minor releases later. Use mathtext.math_to_image instead.\n",
      "  mt.to_png(f, s, fontsize=12, dpi=dpi, color=color)\n",
      "C:\\ProgramData\\Anaconda3\\lib\\site-packages\\IPython\\lib\\latextools.py:126: MatplotlibDeprecationWarning: \n",
      "The MathtextBackendBitmap class was deprecated in Matplotlib 3.4 and will be removed two minor releases later. Use mathtext.math_to_image instead.\n",
      "  mt.to_png(f, s, fontsize=12, dpi=dpi, color=color)\n"
     ]
    },
    {
     "data": {
      "image/png": "[encoded data removed]",
      "text/latex": [
       "$\\displaystyle \\left[ 6.93250341366091, \\  4.84727995482917, \\  0.389012007553925\\right]$"
      ],
      "text/plain": [
       "[6.93250341366091, 4.847279954829172, 0.3890120075539247]"
      ]
     },
     "execution_count": 16,
     "metadata": {},
     "output_type": "execute_result"
    }
   ],
   "source": [
    "KC1 = -2*tau_1*zeta_1/(k_11*(theta_1 - tauC))\n",
    "TD1 = tau_1/(2*zeta_1)\n",
    "TI1 = 2*tau_1*zeta_1\n",
    "[KC1,TI1,TD1]"
   ]
  },
  {
   "cell_type": "code",
   "execution_count": 17,
   "id": "d8ce15cd",
   "metadata": {},
   "outputs": [
    {
     "data": {
      "text/latex": [
       "$$\\frac{13.07 s^2 + 33.6 s + 6.933}{4.847 s}$$"
      ],
      "text/plain": [
       "TransferFunction(array([13.0722758 , 33.60378483,  6.93250341]), array([4.84727995, 0.        ]))"
      ]
     },
     "execution_count": 17,
     "metadata": {},
     "output_type": "execute_result"
    }
   ],
   "source": [
    "GC_PID1 = KC1*(1 + control.tf(1,[TI1,0]) + control.tf([TD1,0],1))\n",
    "GC_PID1"
   ]
  },
  {
   "cell_type": "code",
   "execution_count": 18,
   "id": "4b70b558",
   "metadata": {},
   "outputs": [
    {
     "data": {
      "image/png": "[encoded data removed]",
      "text/plain": [
       "<Figure size 432x288 with 1 Axes>"
      ]
     },
     "metadata": {
      "needs_background": "light"
     },
     "output_type": "display_data"
    }
   ],
   "source": [
    "_, yLA = control.step_response(GP,ts)\n",
    "_, yLC1 = control.step_response(control.feedback(GP,1),ts)\n",
    "_, yLCPID1 = control.step_response(control.feedback(GC_PID1*GPP_pade,1),ts)\n",
    "\n",
    "plt.plot(ts,yLA,\n",
    "         ts,yLC1,\n",
    "         ts,yLCPID1)\n",
    "plt.legend(('Lazo abierto','Realimentado','con PID directo'))\n",
    "plt.grid()"
   ]
  },
  {
   "cell_type": "markdown",
   "id": "3a6e5553",
   "metadata": {},
   "source": [
    "Este diseño se aplico en la planta del laboratorio y se obtuvo los siguientes resultados "
   ]
  },
  {
   "cell_type": "markdown",
   "id": "0cfaa59e",
   "metadata": {},
   "source": [
    "Se ensayo varios métodos y con este nos dio un resultado más decente.\n",
    "\n",
    "\n",
    "\n"
   ]
  },
  {
   "cell_type": "markdown",
   "id": "3ccbe6dd",
   "metadata": {},
   "source": [
    "# Primer resultado "
   ]
  },
  {
   "cell_type": "code",
   "execution_count": 16,
   "id": "7b013ced",
   "metadata": {},
   "outputs": [
    {
     "data": {
      "text/html": [
       "<div>\n",
       "<style scoped>\n",
       "    .dataframe tbody tr th:only-of-type {\n",
       "        vertical-align: middle;\n",
       "    }\n",
       "\n",
       "    .dataframe tbody tr th {\n",
       "        vertical-align: top;\n",
       "    }\n",
       "\n",
       "    .dataframe thead th {\n",
       "        text-align: right;\n",
       "    }\n",
       "</style>\n",
       "<table border=\"1\" class=\"dataframe\">\n",
       "  <thead>\n",
       "    <tr style=\"text-align: right;\">\n",
       "      <th></th>\n",
       "      <th>Tiempo</th>\n",
       "      <th>Referencia</th>\n",
       "      <th>Error</th>\n",
       "      <th>Señal de control</th>\n",
       "      <th>Salida</th>\n",
       "    </tr>\n",
       "  </thead>\n",
       "  <tbody>\n",
       "    <tr>\n",
       "      <th>0</th>\n",
       "      <td>0.0</td>\n",
       "      <td>5</td>\n",
       "      <td>0.007108</td>\n",
       "      <td>0.105775</td>\n",
       "      <td>4.992892</td>\n",
       "    </tr>\n",
       "    <tr>\n",
       "      <th>1</th>\n",
       "      <td>1.0</td>\n",
       "      <td>5</td>\n",
       "      <td>0.050546</td>\n",
       "      <td>0.727015</td>\n",
       "      <td>4.949454</td>\n",
       "    </tr>\n",
       "    <tr>\n",
       "      <th>2</th>\n",
       "      <td>2.0</td>\n",
       "      <td>5</td>\n",
       "      <td>0.441492</td>\n",
       "      <td>6.424662</td>\n",
       "      <td>4.558508</td>\n",
       "    </tr>\n",
       "    <tr>\n",
       "      <th>3</th>\n",
       "      <td>3.0</td>\n",
       "      <td>5</td>\n",
       "      <td>1.313156</td>\n",
       "      <td>18.250509</td>\n",
       "      <td>3.686844</td>\n",
       "    </tr>\n",
       "    <tr>\n",
       "      <th>4</th>\n",
       "      <td>4.0</td>\n",
       "      <td>5</td>\n",
       "      <td>1.455055</td>\n",
       "      <td>19.366911</td>\n",
       "      <td>3.544945</td>\n",
       "    </tr>\n",
       "    <tr>\n",
       "      <th>...</th>\n",
       "      <td>...</td>\n",
       "      <td>...</td>\n",
       "      <td>...</td>\n",
       "      <td>...</td>\n",
       "      <td>...</td>\n",
       "    </tr>\n",
       "    <tr>\n",
       "      <th>86</th>\n",
       "      <td>86.0</td>\n",
       "      <td>10</td>\n",
       "      <td>0.073952</td>\n",
       "      <td>34.686830</td>\n",
       "      <td>9.926048</td>\n",
       "    </tr>\n",
       "    <tr>\n",
       "      <th>87</th>\n",
       "      <td>87.0</td>\n",
       "      <td>10</td>\n",
       "      <td>0.110150</td>\n",
       "      <td>35.108297</td>\n",
       "      <td>9.889850</td>\n",
       "    </tr>\n",
       "    <tr>\n",
       "      <th>88</th>\n",
       "      <td>88.0</td>\n",
       "      <td>10</td>\n",
       "      <td>0.131870</td>\n",
       "      <td>35.654007</td>\n",
       "      <td>9.868130</td>\n",
       "    </tr>\n",
       "    <tr>\n",
       "      <th>89</th>\n",
       "      <td>89.0</td>\n",
       "      <td>10</td>\n",
       "      <td>0.114494</td>\n",
       "      <td>35.840960</td>\n",
       "      <td>9.885506</td>\n",
       "    </tr>\n",
       "    <tr>\n",
       "      <th>90</th>\n",
       "      <td>90.0</td>\n",
       "      <td>10</td>\n",
       "      <td>0.072504</td>\n",
       "      <td>35.903195</td>\n",
       "      <td>9.927496</td>\n",
       "    </tr>\n",
       "  </tbody>\n",
       "</table>\n",
       "<p>91 rows × 5 columns</p>\n",
       "</div>"
      ],
      "text/plain": [
       "    Tiempo  Referencia     Error  Señal de control    Salida\n",
       "0      0.0           5  0.007108          0.105775  4.992892\n",
       "1      1.0           5  0.050546          0.727015  4.949454\n",
       "2      2.0           5  0.441492          6.424662  4.558508\n",
       "3      3.0           5  1.313156         18.250509  3.686844\n",
       "4      4.0           5  1.455055         19.366911  3.544945\n",
       "..     ...         ...       ...               ...       ...\n",
       "86    86.0          10  0.073952         34.686830  9.926048\n",
       "87    87.0          10  0.110150         35.108297  9.889850\n",
       "88    88.0          10  0.131870         35.654007  9.868130\n",
       "89    89.0          10  0.114494         35.840960  9.885506\n",
       "90    90.0          10  0.072504         35.903195  9.927496\n",
       "\n",
       "[91 rows x 5 columns]"
      ]
     },
     "execution_count": 16,
     "metadata": {},
     "output_type": "execute_result"
    }
   ],
   "source": [
    "a0 = pd.read_csv('C:\\\\Users\\\\jgall\\\\OneDrive\\\\Documentos\\\\ControlAnalogo\\\\DATOS\\\\PID_1JDG.csv')\n",
    "a0"
   ]
  },
  {
   "cell_type": "code",
   "execution_count": 26,
   "id": "406dd3c6",
   "metadata": {},
   "outputs": [
    {
     "data": {
      "text/plain": [
       "[<matplotlib.lines.Line2D at 0x22e0f18df10>,\n",
       " <matplotlib.lines.Line2D at 0x22e0f18deb0>,\n",
       " <matplotlib.lines.Line2D at 0x22e0f18dd00>,\n",
       " <matplotlib.lines.Line2D at 0x22e0f19c160>]"
      ]
     },
     "execution_count": 26,
     "metadata": {},
     "output_type": "execute_result"
    },
    {
     "data": {
      "image/png": "[encoded data removed]",
      "text/plain": [
       "<Figure size 432x288 with 1 Axes>"
      ]
     },
     "metadata": {
      "needs_background": "light"
     },
     "output_type": "display_data"
    }
   ],
   "source": [
    "plt.plot(a0[\"Tiempo\"],a0[\"Referencia\"],  \n",
    "         a0[\"Tiempo\"],1*a0[\"Salida\"],\n",
    "        a0[\"Tiempo\"],1*a0[\"Señal de control\"],\n",
    "        a0[\"Tiempo\"],1*a0[\"\"])  "
   ]
  },
  {
   "cell_type": "markdown",
   "id": "f03d1171",
   "metadata": {},
   "source": [
    "Observe que se presentan oscilaciones aunque la respuesta deseada se modeló como un sistema de primer orden con tiempo muerto."
   ]
  },
  {
   "cell_type": "markdown",
   "id": "ae3527ce",
   "metadata": {},
   "source": [
    "# Segundo resultado "
   ]
  },
  {
   "cell_type": "code",
   "execution_count": 21,
   "id": "01be98f6",
   "metadata": {},
   "outputs": [
    {
     "data": {
      "text/html": [
       "<div>\n",
       "<style scoped>\n",
       "    .dataframe tbody tr th:only-of-type {\n",
       "        vertical-align: middle;\n",
       "    }\n",
       "\n",
       "    .dataframe tbody tr th {\n",
       "        vertical-align: top;\n",
       "    }\n",
       "\n",
       "    .dataframe thead th {\n",
       "        text-align: right;\n",
       "    }\n",
       "</style>\n",
       "<table border=\"1\" class=\"dataframe\">\n",
       "  <thead>\n",
       "    <tr style=\"text-align: right;\">\n",
       "      <th></th>\n",
       "      <th>Tiempo</th>\n",
       "      <th>Referencia</th>\n",
       "      <th>Error</th>\n",
       "      <th>Señal de control</th>\n",
       "      <th>Salida</th>\n",
       "    </tr>\n",
       "  </thead>\n",
       "  <tbody>\n",
       "    <tr>\n",
       "      <th>0</th>\n",
       "      <td>0.0</td>\n",
       "      <td>5</td>\n",
       "      <td>0.830990</td>\n",
       "      <td>2.473290</td>\n",
       "      <td>4.169010</td>\n",
       "    </tr>\n",
       "    <tr>\n",
       "      <th>1</th>\n",
       "      <td>1.0</td>\n",
       "      <td>5</td>\n",
       "      <td>0.668820</td>\n",
       "      <td>1.401546</td>\n",
       "      <td>4.331180</td>\n",
       "    </tr>\n",
       "    <tr>\n",
       "      <th>2</th>\n",
       "      <td>2.0</td>\n",
       "      <td>5</td>\n",
       "      <td>0.793343</td>\n",
       "      <td>2.675502</td>\n",
       "      <td>4.206657</td>\n",
       "    </tr>\n",
       "    <tr>\n",
       "      <th>3</th>\n",
       "      <td>3.0</td>\n",
       "      <td>5</td>\n",
       "      <td>1.497045</td>\n",
       "      <td>5.316193</td>\n",
       "      <td>3.502955</td>\n",
       "    </tr>\n",
       "    <tr>\n",
       "      <th>4</th>\n",
       "      <td>4.0</td>\n",
       "      <td>5</td>\n",
       "      <td>2.141382</td>\n",
       "      <td>7.487760</td>\n",
       "      <td>2.858618</td>\n",
       "    </tr>\n",
       "    <tr>\n",
       "      <th>...</th>\n",
       "      <td>...</td>\n",
       "      <td>...</td>\n",
       "      <td>...</td>\n",
       "      <td>...</td>\n",
       "      <td>...</td>\n",
       "    </tr>\n",
       "    <tr>\n",
       "      <th>86</th>\n",
       "      <td>86.0</td>\n",
       "      <td>10</td>\n",
       "      <td>0.003002</td>\n",
       "      <td>35.810083</td>\n",
       "      <td>9.996998</td>\n",
       "    </tr>\n",
       "    <tr>\n",
       "      <th>87</th>\n",
       "      <td>87.0</td>\n",
       "      <td>10</td>\n",
       "      <td>-0.011477</td>\n",
       "      <td>35.822638</td>\n",
       "      <td>10.011477</td>\n",
       "    </tr>\n",
       "    <tr>\n",
       "      <th>88</th>\n",
       "      <td>88.0</td>\n",
       "      <td>10</td>\n",
       "      <td>-0.036092</td>\n",
       "      <td>35.762489</td>\n",
       "      <td>10.036092</td>\n",
       "    </tr>\n",
       "    <tr>\n",
       "      <th>89</th>\n",
       "      <td>89.0</td>\n",
       "      <td>10</td>\n",
       "      <td>-0.052020</td>\n",
       "      <td>35.721644</td>\n",
       "      <td>10.052020</td>\n",
       "    </tr>\n",
       "    <tr>\n",
       "      <th>90</th>\n",
       "      <td>90.0</td>\n",
       "      <td>10</td>\n",
       "      <td>-0.057812</td>\n",
       "      <td>35.681455</td>\n",
       "      <td>10.057812</td>\n",
       "    </tr>\n",
       "  </tbody>\n",
       "</table>\n",
       "<p>91 rows × 5 columns</p>\n",
       "</div>"
      ],
      "text/plain": [
       "    Tiempo  Referencia     Error  Señal de control     Salida\n",
       "0      0.0           5  0.830990          2.473290   4.169010\n",
       "1      1.0           5  0.668820          1.401546   4.331180\n",
       "2      2.0           5  0.793343          2.675502   4.206657\n",
       "3      3.0           5  1.497045          5.316193   3.502955\n",
       "4      4.0           5  2.141382          7.487760   2.858618\n",
       "..     ...         ...       ...               ...        ...\n",
       "86    86.0          10  0.003002         35.810083   9.996998\n",
       "87    87.0          10 -0.011477         35.822638  10.011477\n",
       "88    88.0          10 -0.036092         35.762489  10.036092\n",
       "89    89.0          10 -0.052020         35.721644  10.052020\n",
       "90    90.0          10 -0.057812         35.681455  10.057812\n",
       "\n",
       "[91 rows x 5 columns]"
      ]
     },
     "execution_count": 21,
     "metadata": {},
     "output_type": "execute_result"
    }
   ],
   "source": [
    "a1 = pd.read_csv('C:\\\\Users\\\\jgall\\\\OneDrive\\\\Documentos\\\\ControlAnalogo\\\\DATOS\\\\PID_2JDG.csv')\n",
    "a1"
   ]
  },
  {
   "cell_type": "code",
   "execution_count": 27,
   "id": "dc92d298",
   "metadata": {},
   "outputs": [
    {
     "data": {
      "text/plain": [
       "[<matplotlib.lines.Line2D at 0x22e0f200400>,\n",
       " <matplotlib.lines.Line2D at 0x22e0f2003a0>,\n",
       " <matplotlib.lines.Line2D at 0x22e0f200610>,\n",
       " <matplotlib.lines.Line2D at 0x22e0f200730>]"
      ]
     },
     "execution_count": 27,
     "metadata": {},
     "output_type": "execute_result"
    },
    {
     "data": {
      "image/png": "[encoded data removed]",
      "text/plain": [
       "<Figure size 432x288 with 1 Axes>"
      ]
     },
     "metadata": {
      "needs_background": "light"
     },
     "output_type": "display_data"
    }
   ],
   "source": [
    "plt.plot(a1[\"Tiempo\"],a1[\"Referencia\"],  \n",
    "         a1[\"Tiempo\"],1*a1[\"Salida\"],\n",
    "        a1[\"Tiempo\"],1*a1[\"Señal de control\"],\n",
    "         a0[\"Tiempo\"],1*a0[\"Error\"])  "
   ]
  },
  {
   "cell_type": "markdown",
   "id": "7daf7262",
   "metadata": {},
   "source": [
    "Para mejorar el comportamiento del controlador utilizamos un método que es dividir la parte proporcional entre 5 o 7.5, esto con el fin de logara disminuir un poco la oscilación y un tiempo de establecimiento más rápido. "
   ]
  },
  {
   "cell_type": "markdown",
   "id": "1c905bcf",
   "metadata": {},
   "source": [
    "Desarrollando esta actividad tuvimos algunos inconvenientes a la hora de controlar el sistema, ya que la ganancia de nuestra funciona de trasferencia no funcionaba bien cuando se cambiaba el escalón, luego de tener estas cosas en cuenta el diseño del PID funciono mejor."
   ]
  },
  {
   "cell_type": "code",
   "execution_count": null,
   "id": "3d3f2775",
   "metadata": {},
   "outputs": [],
   "source": []
  }
 ],
 "metadata": {
  "kernelspec": {
   "display_name": "Python 3 (ipykernel)",
   "language": "python",
   "name": "python3"
  },
  "language_info": {
   "codemirror_mode": {
    "name": "ipython",
    "version": 3
   },
   "file_extension": ".py",
   "mimetype": "text/x-python",
   "name": "python",
   "nbconvert_exporter": "python",
   "pygments_lexer": "ipython3",
   "version": "3.9.7"
  }
 },
 "nbformat": 4,
 "nbformat_minor": 5
}
