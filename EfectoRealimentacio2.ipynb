{
 "cells": [
  {
   "cell_type": "code",
   "execution_count": 1,
   "id": "1d0a5232",
   "metadata": {},
   "outputs": [
    {
     "name": "stdout",
     "output_type": "stream",
     "text": [
      "Requirement already satisfied: control in c:\\programdata\\anaconda3\\lib\\site-packages (0.9.1)\n",
      "Requirement already satisfied: numpy in c:\\programdata\\anaconda3\\lib\\site-packages (from control) (1.20.3)\n",
      "Requirement already satisfied: scipy in c:\\programdata\\anaconda3\\lib\\site-packages (from control) (1.7.1)\n",
      "Requirement already satisfied: matplotlib in c:\\programdata\\anaconda3\\lib\\site-packages (from control) (3.4.3)\n",
      "Requirement already satisfied: python-dateutil>=2.7 in c:\\programdata\\anaconda3\\lib\\site-packages (from matplotlib->control) (2.8.2)\n",
      "Requirement already satisfied: kiwisolver>=1.0.1 in c:\\programdata\\anaconda3\\lib\\site-packages (from matplotlib->control) (1.3.1)\n",
      "Requirement already satisfied: cycler>=0.10 in c:\\programdata\\anaconda3\\lib\\site-packages (from matplotlib->control) (0.10.0)\n",
      "Requirement already satisfied: pyparsing>=2.2.1 in c:\\programdata\\anaconda3\\lib\\site-packages (from matplotlib->control) (3.0.4)\n",
      "Requirement already satisfied: pillow>=6.2.0 in c:\\programdata\\anaconda3\\lib\\site-packages (from matplotlib->control) (8.4.0)\n",
      "Requirement already satisfied: six in c:\\programdata\\anaconda3\\lib\\site-packages (from cycler>=0.10->matplotlib->control) (1.16.0)\n",
      "Note: you may need to restart the kernel to use updated packages.\n"
     ]
    }
   ],
   "source": [
    "pip install control"
   ]
  },
  {
   "cell_type": "code",
   "execution_count": 2,
   "id": "86f0c920",
   "metadata": {},
   "outputs": [],
   "source": [
    "import numpy as np\n",
    "import matplotlib.pyplot as plt\n",
    "%matplotlib inline\n",
    "import control"
   ]
  },
  {
   "cell_type": "code",
   "execution_count": 3,
   "id": "a211ce8f",
   "metadata": {},
   "outputs": [
    {
     "data": {
      "text/latex": [
       "$$\\frac{2}{s^3 + 2 s^2 + 4 s + 2}$$"
      ],
      "text/plain": [
       "TransferFunction(array([2]), array([1, 2, 4, 2]))"
      ]
     },
     "execution_count": 3,
     "metadata": {},
     "output_type": "execute_result"
    }
   ],
   "source": [
    "# Se define la función de transferencia del proceso\n",
    "Gp = control.tf(2, [1,4,2])\n",
    "Gp"
   ]
  },
  {
   "cell_type": "code",
   "execution_count": 4,
   "id": "003ab05e",
   "metadata": {},
   "outputs": [
    {
     "data": {
      "text/plain": [
       "array([-0.68055154+1.63317024j, -0.68055154-1.63317024j,\n",
       "       -0.63889692+0.j        ])"
      ]
     },
     "execution_count": 4,
     "metadata": {},
     "output_type": "execute_result"
    }
   ],
   "source": [
    "# Se hallan los polos del proceso\n",
    "polos = Gp.pole()\n",
    "polos"
   ]
  },
  {
   "cell_type": "code",
   "execution_count": 5,
   "id": "9b7df09f",
   "metadata": {},
   "outputs": [
    {
     "data": {
      "text/plain": [
       "array([], dtype=float64)"
      ]
     },
     "execution_count": 5,
     "metadata": {},
     "output_type": "execute_result"
    }
   ],
   "source": [
    "# Se hallan los ceros del proceso\n",
    "ceros = Gp.zero()\n",
    "ceros"
   ]
  },
  {
   "cell_type": "code",
   "execution_count": 6,
   "id": "5cd6ef80",
   "metadata": {},
   "outputs": [
    {
     "data": {
      "image/png": "[encoded data removed]",
      "text/plain": [
       "<Figure size 432x288 with 1 Axes>"
      ]
     },
     "metadata": {
      "needs_background": "light"
     },
     "output_type": "display_data"
    }
   ],
   "source": [
    "# Se grafica el mapa de polos y ceros\n",
    "control.pzmap(Gp)\n",
    "plt.grid(True)"
   ]
  },
  {
   "cell_type": "code",
   "execution_count": 7,
   "id": "7bfe2c02",
   "metadata": {},
   "outputs": [
    {
     "data": {
      "image/png": "[encoded data removed]",
      "text/plain": [
       "<Figure size 432x288 with 1 Axes>"
      ]
     },
     "metadata": {
      "needs_background": "light"
     },
     "output_type": "display_data"
    }
   ],
   "source": [
    "# Se grafica la respuesta al escalón\n",
    "ts = np.linspace(0, 20, 1000)\n",
    "_, y = control.step_response(Gp, ts)\n",
    "plt.plot(ts, y)\n",
    "plt.grid(True)"
   ]
  },
  {
   "cell_type": "code",
   "execution_count": 8,
   "id": "e1840eb9",
   "metadata": {},
   "outputs": [],
   "source": [
    "#Se tomarán distintos escenarios para  𝐺𝑐(𝑠)=𝑘𝑐 .\n",
    "Gc1 = 0.01\n",
    "Gc2 = 0.1\n",
    "Gc3 = 1.5\n",
    "Gc4 = 3\n",
    "Gc5 = 5\n",
    "Gc6 = 10\n",
    "Gc7 = 1.501"
   ]
  },
  {
   "cell_type": "code",
   "execution_count": 9,
   "id": "2d454cd5",
   "metadata": {},
   "outputs": [
    {
     "data": {
      "text/latex": [
       "$$\\frac{0.02}{s^3 + 2 s^2 + 4 s + 2.02}$$"
      ],
      "text/plain": [
       "TransferFunction(array([0.02]), array([1.  , 2.  , 4.  , 2.02]))"
      ]
     },
     "execution_count": 9,
     "metadata": {},
     "output_type": "execute_result"
    }
   ],
   "source": [
    "# Caso 1\n",
    "G_LC1 = control.feedback(Gc1*Gp,1)\n",
    "_, y1 = control.step_response(G_LC1, ts)\n",
    "\n",
    "G_LC1"
   ]
  },
  {
   "cell_type": "code",
   "execution_count": 10,
   "id": "9b4cea8f",
   "metadata": {},
   "outputs": [
    {
     "data": {
      "text/latex": [
       "$$\\frac{0.2}{s^3 + 2 s^2 + 4 s + 2.2}$$"
      ],
      "text/plain": [
       "TransferFunction(array([0.2]), array([1. , 2. , 4. , 2.2]))"
      ]
     },
     "execution_count": 10,
     "metadata": {},
     "output_type": "execute_result"
    }
   ],
   "source": [
    "# Caso 2\n",
    "G_LC2 = control.feedback(Gc2*Gp,1)\n",
    "_, y2 = control.step_response(G_LC2, ts)\n",
    "G_LC2"
   ]
  },
  {
   "cell_type": "code",
   "execution_count": 11,
   "id": "8abe206e",
   "metadata": {},
   "outputs": [
    {
     "data": {
      "text/latex": [
       "$$\\frac{3}{s^3 + 2 s^2 + 4 s + 5}$$"
      ],
      "text/plain": [
       "TransferFunction(array([3.]), array([1., 2., 4., 5.]))"
      ]
     },
     "execution_count": 11,
     "metadata": {},
     "output_type": "execute_result"
    }
   ],
   "source": [
    "# Caso 3\n",
    "G_LC3 = control.feedback(Gc3*Gp,1)\n",
    "_, y3 = control.step_response(G_LC3, ts)\n",
    "G_LC3"
   ]
  },
  {
   "cell_type": "code",
   "execution_count": 12,
   "id": "a99da34e",
   "metadata": {},
   "outputs": [
    {
     "data": {
      "text/latex": [
       "$$\\frac{6}{s^3 + 2 s^2 + 4 s + 8}$$"
      ],
      "text/plain": [
       "TransferFunction(array([6]), array([1, 2, 4, 8]))"
      ]
     },
     "execution_count": 12,
     "metadata": {},
     "output_type": "execute_result"
    }
   ],
   "source": [
    "# Caso 4\n",
    "G_LC4 = control.feedback(Gc4*Gp,1)\n",
    "_, y4 = control.step_response(G_LC4, ts)\n",
    "G_LC4"
   ]
  },
  {
   "cell_type": "code",
   "execution_count": 13,
   "id": "a0afb67c",
   "metadata": {},
   "outputs": [
    {
     "data": {
      "text/latex": [
       "$$\\frac{10}{s^3 + 2 s^2 + 4 s + 12}$$"
      ],
      "text/plain": [
       "TransferFunction(array([10]), array([ 1,  2,  4, 12]))"
      ]
     },
     "execution_count": 13,
     "metadata": {},
     "output_type": "execute_result"
    }
   ],
   "source": [
    "# Caso 5\n",
    "G_LC5 = control.feedback(Gc5*Gp,1)\n",
    "_, y5 = control.step_response(G_LC5, ts)\n",
    "G_LC5"
   ]
  },
  {
   "cell_type": "code",
   "execution_count": 14,
   "id": "ec44fa84",
   "metadata": {},
   "outputs": [
    {
     "data": {
      "text/latex": [
       "$$\\frac{20}{s^3 + 2 s^2 + 4 s + 22}$$"
      ],
      "text/plain": [
       "TransferFunction(array([20]), array([ 1,  2,  4, 22]))"
      ]
     },
     "execution_count": 14,
     "metadata": {},
     "output_type": "execute_result"
    }
   ],
   "source": [
    "# Caso 6\n",
    "G_LC6 = control.feedback(Gc6*Gp,1)\n",
    "_, y6 = control.step_response(G_LC6, ts)\n",
    "G_LC6"
   ]
  },
  {
   "cell_type": "code",
   "execution_count": 15,
   "id": "4f76e361",
   "metadata": {},
   "outputs": [
    {
     "data": {
      "text/latex": [
       "$$\\frac{3.002}{s^3 + 2 s^2 + 4 s + 5.002}$$"
      ],
      "text/plain": [
       "TransferFunction(array([3.002]), array([1.   , 2.   , 4.   , 5.002]))"
      ]
     },
     "execution_count": 15,
     "metadata": {},
     "output_type": "execute_result"
    }
   ],
   "source": [
    "# Caso 7\n",
    "G_LC7 = control.feedback(Gc7*Gp,1)\n",
    "_, y7 = control.step_response(G_LC7, ts)\n",
    "G_LC7"
   ]
  },
  {
   "cell_type": "code",
   "execution_count": 16,
   "id": "670c7eb3",
   "metadata": {},
   "outputs": [
    {
     "data": {
      "image/png": "[encoded data removed]",
      "text/plain": [
       "<Figure size 432x288 with 8 Axes>"
      ]
     },
     "metadata": {
      "needs_background": "light"
     },
     "output_type": "display_data"
    }
   ],
   "source": [
    "# Se grafica el mapa de polos y ceros para todos los escenarios\n",
    "control.pzmap(Gp)\n",
    "control.pzmap(G_LC1)\n",
    "control.pzmap(G_LC2)\n",
    "control.pzmap(G_LC3)\n",
    "control.pzmap(G_LC4)\n",
    "control.pzmap(G_LC5)\n",
    "control.pzmap(G_LC6)\n",
    "control.pzmap(G_LC7)\n",
    "plt.grid(True)"
   ]
  },
  {
   "cell_type": "code",
   "execution_count": 20,
   "id": "79567e32",
   "metadata": {},
   "outputs": [
    {
     "data": {
      "image/png": "[encoded data removed]",
      "text/plain": [
       "<Figure size 432x288 with 1 Axes>"
      ]
     },
     "metadata": {
      "needs_background": "light"
     },
     "output_type": "display_data"
    }
   ],
   "source": [
    "# Se grafica la respuesta al escalón para todos los escenarios\n",
    "plt.plot(ts, y,ts, y1,ts, y2,ts, y3,ts, y4,ts, y5,ts, y6)\n",
    "plt.legend(['Proceso',\n",
    "            'k=' + str(Gc1),\n",
    "            'k=' + str(Gc2),\n",
    "            'k=' + str(Gc3),\n",
    "            'k=' + str(Gc4),\n",
    "            'k=' + str(Gc5),\n",
    "            'k=' + str(Gc6),\n",
    "            'k=' + str(Gc7)])\n",
    "plt.grid(True)"
   ]
  },
  {
   "cell_type": "code",
   "execution_count": 21,
   "id": "916663b2",
   "metadata": {},
   "outputs": [
    {
     "data": {
      "image/png": "[encoded data removed]",
      "text/plain": [
       "<Figure size 432x288 with 1 Axes>"
      ]
     },
     "metadata": {
      "needs_background": "light"
     },
     "output_type": "display_data"
    }
   ],
   "source": [
    "# La respuesta al escalón para los escenarios estables y el integrador\n",
    "plt.plot(ts, y3,ts, y4,ts, y5,ts,y6,ts,y7)\n",
    "plt.legend(['k=' + str(Gc1),\n",
    "            'k=' + str(Gc2),\n",
    "            'k=' + str(Gc3),\n",
    "            'k=' + str(Gc4),\n",
    "            'k=' + str(Gc5),\n",
    "            'k=' + str(Gc6),\n",
    "            'k=' + str(Gc6)\n",
    "            ])\n",
    "plt.grid(True)"
   ]
  },
  {
   "cell_type": "code",
   "execution_count": null,
   "id": "4349de6a",
   "metadata": {},
   "outputs": [],
   "source": []
  }
 ],
 "metadata": {
  "kernelspec": {
   "display_name": "Python 3 (ipykernel)",
   "language": "python",
   "name": "python3"
  },
  "language_info": {
   "codemirror_mode": {
    "name": "ipython",
    "version": 3
   },
   "file_extension": ".py",
   "mimetype": "text/x-python",
   "name": "python",
   "nbconvert_exporter": "python",
   "pygments_lexer": "ipython3",
   "version": "3.9.7"
  }
 },
 "nbformat": 4,
 "nbformat_minor": 5
}
