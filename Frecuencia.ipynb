{
 "cells": [
  {
   "cell_type": "code",
   "execution_count": 12,
   "id": "3f5cf383",
   "metadata": {},
   "outputs": [],
   "source": [
    "import numpy as np\n",
    "\n",
    "from numpy.polynomial.polynomial import polyvalfromroots\n",
    "\n",
    "from matplotlib import pyplot as plt\n",
    "%matplotlib inline\n",
    "\n",
    "from tbcontrol.plotting import cross_axis\n",
    "\n",
    "from ipywidgets import interact, fixed"
   ]
  },
  {
   "cell_type": "markdown",
   "id": "66843daf",
   "metadata": {},
   "source": [
    "# Respuesta en frecuencia\n",
    "\n",
    "La respuesta en frecuencia de un sistema hace referencia a cómo reacciona en estado estacionario ante entradas sinoidales. Analizar dicha respuesta para sistemas en lazo abierto permite determinar estabilidad de los mismos en lazo cerrado. Para analizar la respuesta en frecuencia desde la función de transferencia en el dominio de Laplace se elimina la parte real de la variable $s$."
   ]
  },
  {
   "cell_type": "code",
   "execution_count": 13,
   "id": "c3afded8",
   "metadata": {},
   "outputs": [],
   "source": [
    "omega = np.logspace(-2, 2, 1000)\n",
    "s = omega*1j"
   ]
  },
  {
   "cell_type": "code",
   "execution_count": 14,
   "id": "fe040ebb",
   "metadata": {},
   "outputs": [],
   "source": [
    "tau1 = 4.489\n",
    "G1 = 0.27 / (tau1*s+1)\n"
   ]
  },
  {
   "cell_type": "markdown",
   "id": "e97df2b1",
   "metadata": {},
   "source": [
    "## Diagramas de bode\n",
    "\n",
    "Una gráfica de $|G(j\\omega)| \\; \\text{vs} \\; \\omega$ junto a un gráfica de $\\angle G(j\\omega) \\; \\text{vs} \\; \\omega$"
   ]
  },
  {
   "cell_type": "code",
   "execution_count": 15,
   "id": "35fceaf3",
   "metadata": {},
   "outputs": [],
   "source": [
    "def bode(G):\n",
    "    fig, [ax_mag, ax_phase] = plt.subplots(2, 1)\n",
    "    \n",
    "    ax_mag.loglog(omega, np.abs(G))\n",
    "    ax_mag.loglog(omega, np.ones(len(omega)))\n",
    "    ax_mag.grid(True)\n",
    "    # ax_phase.semilogx(omega, np.angle(G))\n",
    "    ax_phase.semilogx(omega, np.unwrap(np.angle(G)))\n",
    "    ax_phase.semilogx(omega, -3.14*np.ones(len(omega)))\n",
    "    ax_phase.grid(True)\n",
    "    \n",
    "def Kbode(k,G):\n",
    "    bode(k*G)  "
   ]
  },
  {
   "cell_type": "markdown",
   "id": "9de51d2c",
   "metadata": {},
   "source": [
    "Diagrama de Bode del sistema G1"
   ]
  },
  {
   "cell_type": "code",
   "execution_count": 17,
   "id": "f33f9c31",
   "metadata": {},
   "outputs": [
    {
     "data": {
      "application/vnd.jupyter.widget-view+json": {
       "model_id": "8525031f6b0b46de944ad1670140562e",
       "version_major": 2,
       "version_minor": 0
      },
      "text/plain": [
       "interactive(children=(FloatSlider(value=25.0, description='k', max=50.0), Output()), _dom_classes=('widget-int…"
      ]
     },
     "metadata": {},
     "output_type": "display_data"
    },
    {
     "data": {
      "text/plain": [
       "<function __main__.Kbode(k, G)>"
      ]
     },
     "execution_count": 17,
     "metadata": {},
     "output_type": "execute_result"
    }
   ],
   "source": [
    "interact(Kbode,k=(0.0,50.0),G=fixed(G1))"
   ]
  },
  {
   "cell_type": "markdown",
   "id": "5a2991ef",
   "metadata": {},
   "source": [
    "Observe que el sistema no alcanza a tener desfase de $\\pi$, esto indica que el sistema en lazo cerrado será estable."
   ]
  },
  {
   "cell_type": "markdown",
   "id": "8b0ff948",
   "metadata": {},
   "source": [
    "## Nyquist\n",
    "\n",
    "Una gráfica de $\\Re \\{G(j\\omega)\\} \\; \\text{vs} \\; \\Im \\{G(j\\omega)\\}$. Es común graficar el comportamiento para frecuencias negativas."
   ]
  },
  {
   "cell_type": "code",
   "execution_count": 18,
   "id": "1214b71a",
   "metadata": {},
   "outputs": [],
   "source": [
    "def nyquist(G):\n",
    "    plt.plot(G.real, G.imag,\n",
    "             G.real, -G.imag)\n",
    "    plt.plot([0.0,-1.0],[0.0,0.0],'k')\n",
    "    plt.xlabel('Real')\n",
    "    plt.ylabel('Imag')\n",
    "    plt.axis('equal')\n",
    "    plt.grid(True)\n",
    "    \n",
    "def Knyquist(k,G):\n",
    "    nyquist(k*G)"
   ]
  },
  {
   "cell_type": "markdown",
   "id": "5a1cee0f",
   "metadata": {},
   "source": [
    "Diagrama de Nyquist del sistema G1"
   ]
  },
  {
   "cell_type": "code",
   "execution_count": 21,
   "id": "b68fba2f",
   "metadata": {},
   "outputs": [
    {
     "data": {
      "application/vnd.jupyter.widget-view+json": {
       "model_id": "7b9726e0ec514dc0b3d87b16aa59f8ab",
       "version_major": 2,
       "version_minor": 0
      },
      "text/plain": [
       "interactive(children=(FloatSlider(value=50.0, description='k'), Output()), _dom_classes=('widget-interact',))"
      ]
     },
     "metadata": {},
     "output_type": "display_data"
    },
    {
     "data": {
      "text/plain": [
       "<function __main__.Knyquist(k, G)>"
      ]
     },
     "execution_count": 21,
     "metadata": {},
     "output_type": "execute_result"
    }
   ],
   "source": [
    "interact(Knyquist,k=(0.0,100.0),G=fixed(G1))"
   ]
  },
  {
   "cell_type": "markdown",
   "id": "08cf59b6",
   "metadata": {},
   "source": [
    "Observe que el sistema no alcanza a tener desfase de $\\pi$, esto indica que el sistema en lazo cerrado será estable."
   ]
  },
  {
   "cell_type": "markdown",
   "id": "70e21b44",
   "metadata": {},
   "source": [
    "Para cualquier ganancia mi sistema sigue siendo estable "
   ]
  },
  {
   "cell_type": "code",
   "execution_count": 23,
   "id": "200cfb57",
   "metadata": {},
   "outputs": [],
   "source": [
    "import control"
   ]
  },
  {
   "cell_type": "code",
   "execution_count": 24,
   "id": "5524d6cf",
   "metadata": {},
   "outputs": [],
   "source": [
    "G1C = control.tf(0.27, [tau1, 1])"
   ]
  },
  {
   "cell_type": "markdown",
   "id": "c0e04bc5",
   "metadata": {},
   "source": [
    "Diagrama de Bode del sistema G1"
   ]
  },
  {
   "cell_type": "code",
   "execution_count": 25,
   "id": "76c5446d",
   "metadata": {},
   "outputs": [
    {
     "data": {
      "image/png": "[encoded data removed]",
      "text/plain": [
       "<Figure size 432x288 with 2 Axes>"
      ]
     },
     "metadata": {
      "needs_background": "light"
     },
     "output_type": "display_data"
    }
   ],
   "source": [
    "control.bode(G1C);"
   ]
  },
  {
   "cell_type": "markdown",
   "id": "a1e10fc0",
   "metadata": {},
   "source": [
    "Diagrama de Nyquist del sistema G1"
   ]
  },
  {
   "cell_type": "code",
   "execution_count": 26,
   "id": "a32d85ed",
   "metadata": {},
   "outputs": [
    {
     "data": {
      "image/png": "[encoded data removed]",
      "text/plain": [
       "<Figure size 432x288 with 1 Axes>"
      ]
     },
     "metadata": {
      "needs_background": "light"
     },
     "output_type": "display_data"
    }
   ],
   "source": [
    "control.nyquist_plot(G1C);"
   ]
  },
  {
   "cell_type": "markdown",
   "id": "bc8ab7de",
   "metadata": {},
   "source": [
    "EL sistema es estable ya que en la grafica se ve que el punto -1 esta fuera del área, las flechas indican hacia donde crece la frecuencia en este caso es hacia la derecha. "
   ]
  },
  {
   "cell_type": "markdown",
   "id": "18bad820",
   "metadata": {},
   "source": [
    "# Observación "
   ]
  },
  {
   "cell_type": "markdown",
   "id": "01a44bcf",
   "metadata": {},
   "source": [
    "Con esta practica de respuesta en frecuencia se puede determinar estabilidad en el sistema en lazo cerrado, podemos entender en que regiones debemos operar el proceso y nos muestra en que otras regiones debemos trabajar para evitar dinámicas no deseadas."
   ]
  },
  {
   "cell_type": "code",
   "execution_count": null,
   "id": "50fd594a",
   "metadata": {},
   "outputs": [],
   "source": []
  }
 ],
 "metadata": {
  "kernelspec": {
   "display_name": "Python 3 (ipykernel)",
   "language": "python",
   "name": "python3"
  },
  "language_info": {
   "codemirror_mode": {
    "name": "ipython",
    "version": 3
   },
   "file_extension": ".py",
   "mimetype": "text/x-python",
   "name": "python",
   "nbconvert_exporter": "python",
   "pygments_lexer": "ipython3",
   "version": "3.9.7"
  }
 },
 "nbformat": 4,
 "nbformat_minor": 5
}
