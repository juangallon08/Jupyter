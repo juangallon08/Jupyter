{
 "cells": [
  {
   "cell_type": "code",
   "execution_count": 1,
   "id": "030d6e80",
   "metadata": {},
   "outputs": [],
   "source": [
    "\n",
    "import pandas as pd \n",
    "import matplotlib.pyplot as plt \n",
    "import tbcontrol\n",
    "import control\n",
    "import numpy as np\n",
    "tbcontrol.expectversion(\"0.1.10\")\n",
    "%matplotlib inline\n",
    "import scipy.optimize\n",
    "from tbcontrol.responses import fopdt, sopdt\n",
    "from ipywidgets import interact\n"
   ]
  },
  {
   "cell_type": "markdown",
   "id": "b13facab",
   "metadata": {},
   "source": [
    "lugar de las raicez para la primer toma de datos \n"
   ]
  },
  {
   "cell_type": "code",
   "execution_count": 10,
   "id": "aeab88cb",
   "metadata": {},
   "outputs": [
    {
     "data": {
      "text/html": [
       "<div>\n",
       "<style scoped>\n",
       "    .dataframe tbody tr th:only-of-type {\n",
       "        vertical-align: middle;\n",
       "    }\n",
       "\n",
       "    .dataframe tbody tr th {\n",
       "        vertical-align: top;\n",
       "    }\n",
       "\n",
       "    .dataframe thead th {\n",
       "        text-align: right;\n",
       "    }\n",
       "</style>\n",
       "<table border=\"1\" class=\"dataframe\">\n",
       "  <thead>\n",
       "    <tr style=\"text-align: right;\">\n",
       "      <th></th>\n",
       "      <th>Tiempo</th>\n",
       "      <th>Referencia</th>\n",
       "      <th>Error</th>\n",
       "      <th>Señal de control</th>\n",
       "      <th>Salida</th>\n",
       "    </tr>\n",
       "  </thead>\n",
       "  <tbody>\n",
       "    <tr>\n",
       "      <th>20</th>\n",
       "      <td>20.0</td>\n",
       "      <td>80</td>\n",
       "      <td>76.925638</td>\n",
       "      <td>76.925638</td>\n",
       "      <td>3.074362</td>\n",
       "    </tr>\n",
       "    <tr>\n",
       "      <th>21</th>\n",
       "      <td>21.0</td>\n",
       "      <td>80</td>\n",
       "      <td>76.872064</td>\n",
       "      <td>76.872064</td>\n",
       "      <td>3.127936</td>\n",
       "    </tr>\n",
       "    <tr>\n",
       "      <th>22</th>\n",
       "      <td>22.0</td>\n",
       "      <td>80</td>\n",
       "      <td>75.314073</td>\n",
       "      <td>75.314073</td>\n",
       "      <td>4.685927</td>\n",
       "    </tr>\n",
       "    <tr>\n",
       "      <th>23</th>\n",
       "      <td>23.0</td>\n",
       "      <td>80</td>\n",
       "      <td>72.995909</td>\n",
       "      <td>72.995909</td>\n",
       "      <td>7.004091</td>\n",
       "    </tr>\n",
       "    <tr>\n",
       "      <th>24</th>\n",
       "      <td>24.0</td>\n",
       "      <td>80</td>\n",
       "      <td>70.905073</td>\n",
       "      <td>70.905073</td>\n",
       "      <td>9.094927</td>\n",
       "    </tr>\n",
       "    <tr>\n",
       "      <th>...</th>\n",
       "      <td>...</td>\n",
       "      <td>...</td>\n",
       "      <td>...</td>\n",
       "      <td>...</td>\n",
       "      <td>...</td>\n",
       "    </tr>\n",
       "    <tr>\n",
       "      <th>116</th>\n",
       "      <td>116.0</td>\n",
       "      <td>80</td>\n",
       "      <td>64.719443</td>\n",
       "      <td>64.719443</td>\n",
       "      <td>15.280557</td>\n",
       "    </tr>\n",
       "    <tr>\n",
       "      <th>117</th>\n",
       "      <td>117.0</td>\n",
       "      <td>80</td>\n",
       "      <td>64.733922</td>\n",
       "      <td>64.733922</td>\n",
       "      <td>15.266078</td>\n",
       "    </tr>\n",
       "    <tr>\n",
       "      <th>118</th>\n",
       "      <td>118.0</td>\n",
       "      <td>80</td>\n",
       "      <td>64.744058</td>\n",
       "      <td>64.744058</td>\n",
       "      <td>15.255942</td>\n",
       "    </tr>\n",
       "    <tr>\n",
       "      <th>119</th>\n",
       "      <td>119.0</td>\n",
       "      <td>80</td>\n",
       "      <td>64.728130</td>\n",
       "      <td>64.728130</td>\n",
       "      <td>15.271870</td>\n",
       "    </tr>\n",
       "    <tr>\n",
       "      <th>120</th>\n",
       "      <td>120.0</td>\n",
       "      <td>80</td>\n",
       "      <td>64.720891</td>\n",
       "      <td>64.720891</td>\n",
       "      <td>15.279109</td>\n",
       "    </tr>\n",
       "  </tbody>\n",
       "</table>\n",
       "<p>101 rows × 5 columns</p>\n",
       "</div>"
      ],
      "text/plain": [
       "     Tiempo  Referencia      Error  Señal de control     Salida\n",
       "20     20.0          80  76.925638         76.925638   3.074362\n",
       "21     21.0          80  76.872064         76.872064   3.127936\n",
       "22     22.0          80  75.314073         75.314073   4.685927\n",
       "23     23.0          80  72.995909         72.995909   7.004091\n",
       "24     24.0          80  70.905073         70.905073   9.094927\n",
       "..      ...         ...        ...               ...        ...\n",
       "116   116.0          80  64.719443         64.719443  15.280557\n",
       "117   117.0          80  64.733922         64.733922  15.266078\n",
       "118   118.0          80  64.744058         64.744058  15.255942\n",
       "119   119.0          80  64.728130         64.728130  15.271870\n",
       "120   120.0          80  64.720891         64.720891  15.279109\n",
       "\n",
       "[101 rows x 5 columns]"
      ]
     },
     "execution_count": 10,
     "metadata": {},
     "output_type": "execute_result"
    }
   ],
   "source": [
    "a0 = pd.read_csv('C:\\\\Users\\\\jgall\\\\OneDrive\\\\Documentos\\\\ControlAnalogo\\\\simon1.csv')\n",
    "a = a0 [a0['Tiempo'] > 19 ] \n",
    "a"
   ]
  },
  {
   "cell_type": "code",
   "execution_count": 11,
   "id": "2335de8b",
   "metadata": {},
   "outputs": [],
   "source": [
    "time = a[\"Tiempo\"]-20\n",
    "salida = a[\"Salida\"]\n",
    "escalon = a[\"Referencia\"]-20"
   ]
  },
  {
   "cell_type": "code",
   "execution_count": 12,
   "id": "fbd70d69",
   "metadata": {},
   "outputs": [
    {
     "data": {
      "text/plain": [
       "Text(0, 0.5, 'caudal')"
      ]
     },
     "execution_count": 12,
     "metadata": {},
     "output_type": "execute_result"
    },
    {
     "data": {
      "image/png": "[encoded data removed]",
      "text/plain": [
       "<Figure size 432x288 with 1 Axes>"
      ]
     },
     "metadata": {
      "needs_background": "light"
     },
     "output_type": "display_data"
    }
   ],
   "source": [
    "plt.plot(time,salida)\n",
    "plt.xlabel(\"tiempo\")\n",
    "plt.ylabel(\"caudal\")"
   ]
  },
  {
   "cell_type": "code",
   "execution_count": null,
   "id": "eb43f3e7",
   "metadata": {},
   "outputs": [],
   "source": []
  }
 ],
 "metadata": {
  "kernelspec": {
   "display_name": "Python 3 (ipykernel)",
   "language": "python",
   "name": "python3"
  },
  "language_info": {
   "codemirror_mode": {
    "name": "ipython",
    "version": 3
   },
   "file_extension": ".py",
   "mimetype": "text/x-python",
   "name": "python",
   "nbconvert_exporter": "python",
   "pygments_lexer": "ipython3",
   "version": "3.9.7"
  }
 },
 "nbformat": 4,
 "nbformat_minor": 5
}
