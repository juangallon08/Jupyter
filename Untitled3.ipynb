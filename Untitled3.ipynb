{
 "cells": [
  {
   "cell_type": "code",
   "execution_count": 1,
   "id": "51c54431",
   "metadata": {},
   "outputs": [],
   "source": [
    "import sympy \n",
    "sympy.init_printing()\n",
    "%matplotlib inline\n",
    "\n",
    "import pandas as pd\n",
    "import numpy as np\n",
    "import matplotlib.pyplot as plt\n",
    "import control\n",
    "\n",
    "\n",
    "import scipy.optimize\n",
    "from tbcontrol.responses import fopdt, sopdt\n",
    "from ipywidgets import interact\n",
    "\n",
    "def resultplot1(K, tau, theta, y0):\n",
    "    plt.figure(figsize=(21, 7))\n",
    "    plt.scatter(ts, ym)\n",
    "    plt.plot(ts, fopdt(ts, K, tau, theta, y0), color='red')\n",
    "    plt.grid(True)\n",
    "\n",
    "def resultplot2(K, tau, zeta, theta, y0):\n",
    "    plt.figure(figsize=(21, 7))\n",
    "    plt.scatter(ts, ym)\n",
    "    plt.plot(ts, sopdt(ts, K, tau, zeta,theta, y0), color='red')\n",
    "    plt.grid(True)\n",
    "    \n"
   ]
  },
  {
   "cell_type": "code",
   "execution_count": 2,
   "id": "72f80fb6",
   "metadata": {},
   "outputs": [
    {
     "data": {
      "text/latex": [
       "$$\\frac{0.27}{4.489 s + 1}$$"
      ],
      "text/plain": [
       "TransferFunction(array([0.27]), array([4.489, 1.   ]))"
      ]
     },
     "execution_count": 2,
     "metadata": {},
     "output_type": "execute_result"
    }
   ],
   "source": [
    "GP = control.tf([0.27], [4.489, 1])\n",
    "GP"
   ]
  },
  {
   "cell_type": "code",
   "execution_count": 3,
   "id": "5f4572f7",
   "metadata": {},
   "outputs": [
    {
     "data": {
      "text/html": [
       "<div>\n",
       "<style scoped>\n",
       "    .dataframe tbody tr th:only-of-type {\n",
       "        vertical-align: middle;\n",
       "    }\n",
       "\n",
       "    .dataframe tbody tr th {\n",
       "        vertical-align: top;\n",
       "    }\n",
       "\n",
       "    .dataframe thead th {\n",
       "        text-align: right;\n",
       "    }\n",
       "</style>\n",
       "<table border=\"1\" class=\"dataframe\">\n",
       "  <thead>\n",
       "    <tr style=\"text-align: right;\">\n",
       "      <th></th>\n",
       "      <th>Tiempo</th>\n",
       "      <th>Entrada</th>\n",
       "      <th>Salida</th>\n",
       "    </tr>\n",
       "  </thead>\n",
       "  <tbody>\n",
       "    <tr>\n",
       "      <th>39</th>\n",
       "      <td>19.5</td>\n",
       "      <td>20</td>\n",
       "      <td>6.785451</td>\n",
       "    </tr>\n",
       "    <tr>\n",
       "      <th>40</th>\n",
       "      <td>20.0</td>\n",
       "      <td>80</td>\n",
       "      <td>6.755044</td>\n",
       "    </tr>\n",
       "    <tr>\n",
       "      <th>41</th>\n",
       "      <td>20.5</td>\n",
       "      <td>80</td>\n",
       "      <td>6.724637</td>\n",
       "    </tr>\n",
       "    <tr>\n",
       "      <th>42</th>\n",
       "      <td>21.0</td>\n",
       "      <td>80</td>\n",
       "      <td>7.552863</td>\n",
       "    </tr>\n",
       "    <tr>\n",
       "      <th>43</th>\n",
       "      <td>21.5</td>\n",
       "      <td>80</td>\n",
       "      <td>9.080447</td>\n",
       "    </tr>\n",
       "  </tbody>\n",
       "</table>\n",
       "</div>"
      ],
      "text/plain": [
       "    Tiempo  Entrada    Salida\n",
       "39    19.5       20  6.785451\n",
       "40    20.0       80  6.755044\n",
       "41    20.5       80  6.724637\n",
       "42    21.0       80  7.552863\n",
       "43    21.5       80  9.080447"
      ]
     },
     "execution_count": 3,
     "metadata": {},
     "output_type": "execute_result"
    }
   ],
   "source": [
    "a0= pd.read_csv('C:\\\\Users\\\\jgall\\\\OneDrive\\\\Documentos\\\\ControlAnalogo\\\\DatosJS.csv')\n",
    "df = a0 [a0['Tiempo'] > 19] \n",
    "df.head()"
   ]
  },
  {
   "cell_type": "code",
   "execution_count": 4,
   "id": "9b942732",
   "metadata": {},
   "outputs": [
    {
     "data": {
      "application/vnd.jupyter.widget-view+json": {
       "model_id": "d97fbe11ecce46ac9666d2c889183e92",
       "version_major": 2,
       "version_minor": 0
      },
      "text/plain": [
       "interactive(children=(FloatSlider(value=10.0, description='K', max=20.0), FloatSlider(value=10.0, description=…"
      ]
     },
     "metadata": {},
     "output_type": "display_data"
    }
   ],
   "source": [
    "ym = df.Salida-20\n",
    "ts = df.Tiempo-20\n",
    "interact(resultplot2, K=(0.0, 20.0), tau=(0., 20.), \n",
    "         theta=(0., 20.), zeta = (0, 20.0), y0=(-20., 20.));"
   ]
  },
  {
   "cell_type": "code",
   "execution_count": 5,
   "id": "18bd22c1",
   "metadata": {},
   "outputs": [
    {
     "name": "stderr",
     "output_type": "stream",
     "text": [
      "C:\\ProgramData\\Anaconda3\\lib\\site-packages\\IPython\\lib\\latextools.py:126: MatplotlibDeprecationWarning: \n",
      "The to_png function was deprecated in Matplotlib 3.4 and will be removed two minor releases later. Use mathtext.math_to_image instead.\n",
      "  mt.to_png(f, s, fontsize=12, dpi=dpi, color=color)\n",
      "C:\\ProgramData\\Anaconda3\\lib\\site-packages\\IPython\\lib\\latextools.py:126: MatplotlibDeprecationWarning: \n",
      "The to_rgba function was deprecated in Matplotlib 3.4 and will be removed two minor releases later. Use mathtext.math_to_image instead.\n",
      "  mt.to_png(f, s, fontsize=12, dpi=dpi, color=color)\n",
      "C:\\ProgramData\\Anaconda3\\lib\\site-packages\\IPython\\lib\\latextools.py:126: MatplotlibDeprecationWarning: \n",
      "The to_mask function was deprecated in Matplotlib 3.4 and will be removed two minor releases later. Use mathtext.math_to_image instead.\n",
      "  mt.to_png(f, s, fontsize=12, dpi=dpi, color=color)\n",
      "C:\\ProgramData\\Anaconda3\\lib\\site-packages\\IPython\\lib\\latextools.py:126: MatplotlibDeprecationWarning: \n",
      "The MathtextBackendBitmap class was deprecated in Matplotlib 3.4 and will be removed two minor releases later. Use mathtext.math_to_image instead.\n",
      "  mt.to_png(f, s, fontsize=12, dpi=dpi, color=color)\n"
     ]
    },
    {
     "data": {
      "image/png": "[encoded data removed]",
      "text/latex": [
       "$\\displaystyle \\left[ 16.416497595946, \\  1.37318975615317, \\  1.76497091283592, \\  0.444483119669349, \\  -13.2504586577646\\right]$"
      ],
      "text/plain": [
       "[16.416497595945994, 1.3731897561531667, 1.7649709128359177, 0.444483119669349\n",
       "4, -13.250458657764632]"
      ]
     },
     "execution_count": 5,
     "metadata": {},
     "output_type": "execute_result"
    }
   ],
   "source": [
    "p_inicial = [16.4, 2, 1.3, 0.0, -13.3]\n",
    "[K_1, tau_1, zeta_1, theta_1, y0_1], pcov = scipy.optimize.curve_fit(sopdt, ts, ym, p_inicial)\n",
    "[K_1, tau_1, zeta_1, theta_1, y0_1]"
   ]
  },
  {
   "cell_type": "code",
   "execution_count": 6,
   "id": "ac6c2ea2",
   "metadata": {},
   "outputs": [
    {
     "data": {
      "image/png": "[encoded data removed]",
      "text/latex": [
       "$\\displaystyle 0.273608293265767$"
      ],
      "text/plain": [
       "0.2736082932657666"
      ]
     },
     "execution_count": 6,
     "metadata": {},
     "output_type": "execute_result"
    }
   ],
   "source": [
    "k_11=K_1/60\n",
    "k_11"
   ]
  },
  {
   "cell_type": "code",
   "execution_count": 7,
   "id": "e391ddb2",
   "metadata": {},
   "outputs": [
    {
     "data": {
      "text/latex": [
       "$$\\frac{-0.27 s + 1.215}{4.489 s^2 + 21.2 s + 4.5}$$"
      ],
      "text/plain": [
       "TransferFunction(array([-0.27      ,  1.21489428]), array([ 4.489     , 21.19874232,  4.49960845]))"
      ]
     },
     "execution_count": 7,
     "metadata": {},
     "output_type": "execute_result"
    }
   ],
   "source": [
    "n_pade,d_pade = control.pade(theta_1,1)\n",
    "GPP_pade = control.tf([0.27],[4.489,1])*control.tf(n_pade,d_pade)\n",
    "GPP_pade"
   ]
  },
  {
   "cell_type": "code",
   "execution_count": 8,
   "id": "1c235e2e",
   "metadata": {},
   "outputs": [],
   "source": [
    "tauC = 10"
   ]
  },
  {
   "cell_type": "markdown",
   "id": "a73c65b5",
   "metadata": {},
   "source": [
    "Se calculan los parámetros del PID"
   ]
  },
  {
   "cell_type": "code",
   "execution_count": 9,
   "id": "c44fe1d9",
   "metadata": {},
   "outputs": [
    {
     "data": {
      "image/png": "[encoded data removed]",
      "text/latex": [
       "$\\displaystyle \\left[ 1.85402105594389, \\  4.84727995482917, \\  0.389012007553925\\right]$"
      ],
      "text/plain": [
       "[1.8540210559438917, 4.847279954829172, 0.3890120075539247]"
      ]
     },
     "execution_count": 9,
     "metadata": {},
     "output_type": "execute_result"
    }
   ],
   "source": [
    "KC1 = -2*tau_1*zeta_1/(k_11*(theta_1 - tauC))\n",
    "TD1 = tau_1/(2*zeta_1)\n",
    "TI1 = 2*tau_1*zeta_1\n",
    "[KC1,TI1,TD1]"
   ]
  },
  {
   "cell_type": "code",
   "execution_count": 10,
   "id": "4e5952d0",
   "metadata": {},
   "outputs": [
    {
     "data": {
      "text/latex": [
       "$$\\frac{3.496 s^2 + 8.987 s + 1.854}{4.847 s}$$"
      ],
      "text/plain": [
       "TransferFunction(array([3.496035  , 8.9869591 , 1.85402106]), array([4.84727995, 0.        ]))"
      ]
     },
     "execution_count": 10,
     "metadata": {},
     "output_type": "execute_result"
    }
   ],
   "source": [
    "GC_PID1 = KC1*(1 + control.tf(1,[TI1,0]) + control.tf([TD1,0],1))\n",
    "GC_PID1"
   ]
  },
  {
   "cell_type": "code",
   "execution_count": 11,
   "id": "858c003e",
   "metadata": {},
   "outputs": [
    {
     "data": {
      "image/png": "[encoded data removed]",
      "text/plain": [
       "<Figure size 432x288 with 1 Axes>"
      ]
     },
     "metadata": {
      "needs_background": "light"
     },
     "output_type": "display_data"
    }
   ],
   "source": [
    "_, yLA = control.step_response(GP,ts)\n",
    "_, yLC1 = control.step_response(control.feedback(GP,1),ts)\n",
    "_, yLCPID1 = control.step_response(control.feedback(GC_PID1*GPP_pade,1),ts)\n",
    "\n",
    "plt.plot(ts,yLA,\n",
    "         ts,yLC1,\n",
    "         ts,yLCPID1)\n",
    "plt.legend(('Lazo abierto','Realimentado','con PID directo'))\n",
    "plt.grid()"
   ]
  },
  {
   "cell_type": "code",
   "execution_count": 12,
   "id": "0ed08147",
   "metadata": {},
   "outputs": [
    {
     "data": {
      "image/png": "[encoded data removed]",
      "text/plain": [
       "<Figure size 432x288 with 1 Axes>"
      ]
     },
     "metadata": {
      "needs_background": "light"
     },
     "output_type": "display_data"
    }
   ],
   "source": []
  },
  {
   "cell_type": "code",
   "execution_count": null,
   "id": "82c1af84",
   "metadata": {},
   "outputs": [],
   "source": []
  }
 ],
 "metadata": {
  "kernelspec": {
   "display_name": "Python 3 (ipykernel)",
   "language": "python",
   "name": "python3"
  },
  "language_info": {
   "codemirror_mode": {
    "name": "ipython",
    "version": 3
   },
   "file_extension": ".py",
   "mimetype": "text/x-python",
   "name": "python",
   "nbconvert_exporter": "python",
   "pygments_lexer": "ipython3",
   "version": "3.9.7"
  }
 },
 "nbformat": 4,
 "nbformat_minor": 5
}
